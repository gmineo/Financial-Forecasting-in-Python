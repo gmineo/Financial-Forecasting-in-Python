{
 "cells": [
  {
   "cell_type": "markdown",
   "metadata": {},
   "source": [
    "### Calculating gross profit"
   ]
  },
  {
   "cell_type": "markdown",
   "metadata": {},
   "source": [
    "Gross profit is the amount of money you generated in sales minus the cost of selling those goods (Also know as Cost of Goods Sold or COGS). COGS does not include administration or marketing costs, only costs directly related to production or providing the good or service, so Gross Profit is a good metric to see the core profitability of any product\\service.\n",
    "\n",
    "Gross profit margin is the gross profit expressed as a percentage of sales, which is valuable for analysis and decision making.\n",
    "\n",
    "As the manager of a factory, you have been asked to check the gross profit forecast for the following year."
   ]
  },
  {
   "cell_type": "code",
   "execution_count": 226,
   "metadata": {},
   "outputs": [
    {
     "name": "stdout",
     "output_type": "stream",
     "text": [
      "The gross profit is 2600.\n"
     ]
    }
   ],
   "source": [
    "# Set the sales variable to 8000\n",
    "sales = 8000\n",
    "\n",
    "# Set the cost of goods sold (cogs) variable to 5400\n",
    "cogs = 5400\n",
    "\n",
    "# Calculate the gross profit (gross_profit)\n",
    "gross_profit = sales - cogs\n",
    "\n",
    "# Print the gross profit\n",
    "print(\"The gross profit is {}.\".format(gross_profit))"
   ]
  },
  {
   "cell_type": "markdown",
   "metadata": {},
   "source": [
    "### Calculating net profit"
   ]
  },
  {
   "cell_type": "markdown",
   "metadata": {},
   "source": [
    "The net profit includes all the other costs (and all other income) that may incur or earn that is not directly related to the product. For example the salary of the accountant who prepares your invoices, the advertising budget, travel expenses, etc.\n",
    "\n",
    "So, how do we calculate this?\n",
    "\n",
    "We start by setting a list for all the items that we want to include in the net profit calculation and calling the list \"other operating expenses\" or \"opex\". To keep it simple we will not go into any tax or exceptional expenses or income. The simplified calculation is:\n",
    "\n",
    "The gross_profit (gross profit) variable has been set for you."
   ]
  },
  {
   "cell_type": "code",
   "execution_count": 227,
   "metadata": {},
   "outputs": [
    {
     "name": "stdout",
     "output_type": "stream",
     "text": [
      "[700, 250, 130, 280, 150]\n",
      "The net profit is 1090.\n"
     ]
    }
   ],
   "source": [
    "# Create and print the opex list\n",
    "admin=700\n",
    "travel=250\n",
    "training=130\n",
    "marketing=280\n",
    "insurance=150\n",
    "\n",
    "\n",
    "opex = [admin, travel, training, marketing, insurance]\n",
    "print(opex)\n",
    "\n",
    "# Calculate and print net profit\n",
    "net_profit = gross_profit - sum(opex)\n",
    "print(\"The net profit is {}.\".format(net_profit))"
   ]
  },
  {
   "cell_type": "markdown",
   "metadata": {},
   "source": [
    "### Calculating sales"
   ]
  },
  {
   "cell_type": "markdown",
   "metadata": {},
   "source": [
    "To calculate a sales forecast we need to know both the price we wish to sell our product and the number of units we expect to sell. In this example we will have a look at a company T-Z producing and selling T-Shirts.\n",
    "\n",
    "The company offers its customers two options - a basic shirt or a customized shirt. A T-shirt costs 15 USD for a basic shirt, and 25 USD for a customized one.\n",
    "\n",
    "T-Z have forecast orders for T-Shirts for delivery next month, and want to use the same sales mix of 60% basic and 40% customized. As this mix is relatively stable, we can calculate an average sales price per unit for T-Z. The variable forecast_units has been set for you."
   ]
  },
  {
   "cell_type": "code",
   "execution_count": 228,
   "metadata": {},
   "outputs": [],
   "source": [
    "forecast_units = 950"
   ]
  },
  {
   "cell_type": "code",
   "execution_count": 229,
   "metadata": {},
   "outputs": [],
   "source": [
    "# Set variables units sold and sales price of the T-shirts (basic and custom)\n",
    "salesprice_basic = 15\n",
    "salesprice_custom = 25\n",
    "\n",
    "# Calculate the combined sales price taking into account the sales mix\n",
    "average_sales_price = (salesprice_basic * 0.6) + (salesprice_custom * 0.4)\n",
    "\n",
    "# Calculate the total sales for next month\n",
    "sales_USD = average_sales_price * forecast_units"
   ]
  },
  {
   "cell_type": "code",
   "execution_count": 230,
   "metadata": {},
   "outputs": [
    {
     "name": "stdout",
     "output_type": "stream",
     "text": [
      "Next month's forecast sales figure is 18050.00 USD.\n"
     ]
    }
   ],
   "source": [
    "# Print the total sales\n",
    "print(\"Next month's forecast sales figure is {:.2f} USD.\".format(sales_USD))"
   ]
  },
  {
   "cell_type": "markdown",
   "metadata": {},
   "source": [
    "### Forecasting sales with a discount"
   ]
  },
  {
   "cell_type": "markdown",
   "metadata": {},
   "source": [
    "Sales are often made with special mixes and discounts. Discounts are a great marketing tool and a way to move stock. Let's look again at company T-Z.\n",
    "\n",
    "T-Z has launched a new range of T-Shirts linked to a celebrity meme for 40 USD per T-Shirt. They have excess stock of Celebshirt1 on their shelves, and in expectation of the release of Celebshirt2 in February, they have announced a 40% discount on Celebshirt1 in February.\n",
    "\n",
    "For this exercise, prices are in USD, and unit amounts are total units sold in the respective month. The following variables have been defined for you:\n",
    "\n",
    "sales_price = 40\n",
    "\n",
    "units_january = 500\n",
    "\n",
    "units_february = 700\n",
    "\n",
    "The January sales only include sales of Celebshirt1.\n",
    "\n",
    "The February sales include sales of Celebshirt1 and Celebshirt2, at a ratio of 45:55."
   ]
  },
  {
   "cell_type": "code",
   "execution_count": 231,
   "metadata": {},
   "outputs": [],
   "source": [
    "sales_price = 40\n",
    "\n",
    "units_january = 500\n",
    "\n",
    "units_february = 700"
   ]
  },
  {
   "cell_type": "code",
   "execution_count": 232,
   "metadata": {},
   "outputs": [
    {
     "name": "stdout",
     "output_type": "stream",
     "text": [
      "The forecast sales for January and February are 20000 and 22960.0 USD respectively.\n"
     ]
    }
   ],
   "source": [
    "# Forecast the sales of January\n",
    "sales_january = sales_price * units_january\n",
    "\n",
    "# Forecast the discounted price\n",
    "dsales_price = sales_price * 0.6\n",
    "\n",
    "# Forecast the sales of February\n",
    "sales_february = (sales_price * units_february * 0.55) + (dsales_price * units_february * 0.45)\n",
    "\n",
    "# Print the forecast sales for January and February\n",
    "print(\"The forecast sales for January and February are {} and {} USD respectively.\".format(sales_january, sales_february))"
   ]
  },
  {
   "cell_type": "markdown",
   "metadata": {},
   "source": [
    "### Calculating COGS"
   ]
  },
  {
   "cell_type": "markdown",
   "metadata": {},
   "source": [
    "Cost of Goods Sold (COGS) is calculated as follows:\n",
    "\n",
    "COGS=Openingvalueofstock - closingvalueofstock + fixedcostscurrentperiod + variablecostscurrentperiod\n",
    "\n",
    "We assume no closing or opening balances, stock is sold in the same month that it is produced.\n",
    "\n",
    "Material costs to produce one T-shirt is 8 USD. Labor costs are 2 USD per shirt. As you only use materials and labor to make the shirt, this is known as variable costs. The costs to rent a machine that produces these shirts is 1300 USD per month, regardless of the amount of shirts produced. This is therefore an example of a fixed cost, as fixed costs in COGS are costs directly related to the product but are incurred whether you produce the products or not.\n",
    "\n",
    "Preloaded variables are printed in the shell."
   ]
  },
  {
   "cell_type": "code",
   "execution_count": 233,
   "metadata": {},
   "outputs": [],
   "source": [
    "machine_rental = 1300\n",
    "material_costs_per_unit = 8\n",
    "labor_costs_per_unit = 2\n",
    "units_jan = 200\n",
    "units_feb = 250"
   ]
  },
  {
   "cell_type": "code",
   "execution_count": 234,
   "metadata": {},
   "outputs": [],
   "source": [
    "# Set the variables for fixed costs and variable costs\n",
    "fixed_costs = machine_rental  \n",
    "variable_costs_per_unit = material_costs_per_unit  + labor_costs_per_unit\n",
    "\n",
    "# Calculate the cogs for January and February\n",
    "cogs_jan = ( 200 * variable_costs_per_unit) + fixed_costs\n",
    "cogs_feb = (250* variable_costs_per_unit) + fixed_costs"
   ]
  },
  {
   "cell_type": "code",
   "execution_count": 235,
   "metadata": {},
   "outputs": [
    {
     "data": {
      "text/plain": [
       "3300"
      ]
     },
     "execution_count": 235,
     "metadata": {},
     "output_type": "execute_result"
    }
   ],
   "source": [
    "cogs_jan"
   ]
  },
  {
   "cell_type": "code",
   "execution_count": 236,
   "metadata": {},
   "outputs": [
    {
     "data": {
      "text/plain": [
       "3800"
      ]
     },
     "execution_count": 236,
     "metadata": {},
     "output_type": "execute_result"
    }
   ],
   "source": [
    "cogs_feb"
   ]
  },
  {
   "cell_type": "code",
   "execution_count": 237,
   "metadata": {},
   "outputs": [
    {
     "name": "stdout",
     "output_type": "stream",
     "text": [
      "The cost per unit for January and February are 16.5 and 15.2 USD respectively.\n"
     ]
    }
   ],
   "source": [
    "# Calculate the unit cost for January and February\n",
    "unit_cost_jan = cogs_jan / units_jan\n",
    "unit_cost_feb = cogs_feb / units_feb \n",
    "\n",
    "# Print the January and February cost per unit\n",
    "print(\"The cost per unit for January and February are {} and {} USD respectively.\".format(unit_cost_jan, unit_cost_feb))"
   ]
  },
  {
   "cell_type": "markdown",
   "metadata": {},
   "source": [
    "### Calculating the break-even point"
   ]
  },
  {
   "cell_type": "markdown",
   "metadata": {},
   "source": [
    "Tracking and understanding how cost per unit varies by month is critical, as the COGS influence the gross profit. At a certain point, if we do not make enough sales in the month to cover our costs, we will enter a loss situation.\n",
    "\n",
    "How do we know we have produced enough units to sell to cover our costs? We do this by using a concept called the break-even point. The formula is as follows:\n",
    "\n",
    "BreakevenPoint(Units)=FixedCostsPricePerUnit−VariableCostPerUnit\n",
    "\n",
    "    In the last exercise, we calculated a unit cost of 16.5 USD for January and 15.2 USD for February. Keep this in mind when calculating the break-even point.\n",
    "\n",
    "Predefined variables have been printed to the shell."
   ]
  },
  {
   "cell_type": "code",
   "execution_count": 238,
   "metadata": {},
   "outputs": [],
   "source": [
    "fixed_costs = 1300\n",
    "variable_costs_per_unit = 10\n",
    "units_jan = 200\n",
    "units_feb = 250\n",
    "sales_price = 16\n",
    "cogs_jan = (units_jan * variable_costs_per_unit) + fixed_costs\n",
    "cogs_feb = (units_feb * variable_costs_per_unit) + machine_rental"
   ]
  },
  {
   "cell_type": "code",
   "execution_count": 239,
   "metadata": {},
   "outputs": [
    {
     "name": "stdout",
     "output_type": "stream",
     "text": [
      "The break even point is 216.66666666666666 units.\n",
      "The gross profit for January and February are -100 and 200 USD respectively.\n"
     ]
    }
   ],
   "source": [
    "# Calculate the break-even point (in units) for Wizit\n",
    "break_even = fixed_costs /(sales_price  - variable_costs_per_unit)\n",
    "\n",
    "# Print the break even point in units\n",
    "print(\"The break even point is {} units.\".format(break_even))\n",
    "\n",
    "# Forecast the gross profit for January and February\n",
    "gross_profit_jan = (sales_price*units_jan ) - cogs_jan\n",
    "gross_profit_feb = (sales_price*units_feb ) - cogs_feb \n",
    "\n",
    "# Print the gross profit for January and February\n",
    "print(\"The gross profit for January and February are {} and {} USD respectively.\".format(gross_profit_jan, gross_profit_feb))"
   ]
  },
  {
   "cell_type": "markdown",
   "metadata": {},
   "source": [
    "### Tesla income statement"
   ]
  },
  {
   "cell_type": "markdown",
   "metadata": {},
   "source": [
    "The dataset for the Tesla income statement is called income_statement.\n",
    "\n",
    "This dataset has a final column called Trailing Twelve Months (TTM), which is the most recent 12 months of data available. We will use this to calculate a 2018 forecast for Tesla.\n",
    "\n",
    "We are only interested in the rows 'Revenue', 'Gross profit', 'Total operating expenses', and 'Net income', so we'll create a filtered income statement to only show these rows. The filtering code uses the following pattern.\n",
    "\n",
    "dataframe[dataframe.columnname.isin(list_of_categories)]\n"
   ]
  },
  {
   "cell_type": "code",
   "execution_count": 240,
   "metadata": {},
   "outputs": [],
   "source": [
    "# Import pandas library\n",
    "import pandas as pd"
   ]
  },
  {
   "cell_type": "code",
   "execution_count": 241,
   "metadata": {},
   "outputs": [],
   "source": [
    "# Import the data\n",
    "income_statement = pd.read_csv('TSLA-Income-Statement.csv', )"
   ]
  },
  {
   "cell_type": "code",
   "execution_count": 242,
   "metadata": {},
   "outputs": [
    {
     "data": {
      "text/html": [
       "<div>\n",
       "<style scoped>\n",
       "    .dataframe tbody tr th:only-of-type {\n",
       "        vertical-align: middle;\n",
       "    }\n",
       "\n",
       "    .dataframe tbody tr th {\n",
       "        vertical-align: top;\n",
       "    }\n",
       "\n",
       "    .dataframe thead th {\n",
       "        text-align: right;\n",
       "    }\n",
       "</style>\n",
       "<table border=\"1\" class=\"dataframe\">\n",
       "  <thead>\n",
       "    <tr style=\"text-align: right;\">\n",
       "      <th></th>\n",
       "      <th>metric</th>\n",
       "      <th>2012-12</th>\n",
       "      <th>2013-12</th>\n",
       "      <th>2014-12</th>\n",
       "      <th>2015-12</th>\n",
       "      <th>2016-12</th>\n",
       "      <th>TTM</th>\n",
       "    </tr>\n",
       "  </thead>\n",
       "  <tbody>\n",
       "    <tr>\n",
       "      <th>0</th>\n",
       "      <td>Revenue</td>\n",
       "      <td>413.00</td>\n",
       "      <td>2013.00</td>\n",
       "      <td>3198.00</td>\n",
       "      <td>4046.00</td>\n",
       "      <td>7000.00</td>\n",
       "      <td>10755.00</td>\n",
       "    </tr>\n",
       "    <tr>\n",
       "      <th>1</th>\n",
       "      <td>Cost of revenue</td>\n",
       "      <td>383.00</td>\n",
       "      <td>1557.00</td>\n",
       "      <td>2317.00</td>\n",
       "      <td>3123.00</td>\n",
       "      <td>5401.00</td>\n",
       "      <td>8536.00</td>\n",
       "    </tr>\n",
       "    <tr>\n",
       "      <th>2</th>\n",
       "      <td>Gross profit</td>\n",
       "      <td>30.00</td>\n",
       "      <td>456.00</td>\n",
       "      <td>882.00</td>\n",
       "      <td>924.00</td>\n",
       "      <td>1599.00</td>\n",
       "      <td>2219.00</td>\n",
       "    </tr>\n",
       "    <tr>\n",
       "      <th>3</th>\n",
       "      <td>Operating expenses</td>\n",
       "      <td>NaN</td>\n",
       "      <td>NaN</td>\n",
       "      <td>NaN</td>\n",
       "      <td>NaN</td>\n",
       "      <td>NaN</td>\n",
       "      <td>NaN</td>\n",
       "    </tr>\n",
       "    <tr>\n",
       "      <th>4</th>\n",
       "      <td>Research and development</td>\n",
       "      <td>274.00</td>\n",
       "      <td>232.00</td>\n",
       "      <td>465.00</td>\n",
       "      <td>718.00</td>\n",
       "      <td>834.00</td>\n",
       "      <td>1269.00</td>\n",
       "    </tr>\n",
       "    <tr>\n",
       "      <th>5</th>\n",
       "      <td>Sales, General and administrative</td>\n",
       "      <td>150.00</td>\n",
       "      <td>286.00</td>\n",
       "      <td>604.00</td>\n",
       "      <td>922.00</td>\n",
       "      <td>1432.00</td>\n",
       "      <td>2250.00</td>\n",
       "    </tr>\n",
       "    <tr>\n",
       "      <th>6</th>\n",
       "      <td>Total operating expenses</td>\n",
       "      <td>424.00</td>\n",
       "      <td>518.00</td>\n",
       "      <td>1068.00</td>\n",
       "      <td>1640.00</td>\n",
       "      <td>2267.00</td>\n",
       "      <td>3520.00</td>\n",
       "    </tr>\n",
       "    <tr>\n",
       "      <th>7</th>\n",
       "      <td>Operating income</td>\n",
       "      <td>-394.00</td>\n",
       "      <td>-61.00</td>\n",
       "      <td>-187.00</td>\n",
       "      <td>-717.00</td>\n",
       "      <td>-667.00</td>\n",
       "      <td>-1301.00</td>\n",
       "    </tr>\n",
       "    <tr>\n",
       "      <th>8</th>\n",
       "      <td>Interest Expense</td>\n",
       "      <td>0.00</td>\n",
       "      <td>33.00</td>\n",
       "      <td>101.00</td>\n",
       "      <td>119.00</td>\n",
       "      <td>199.00</td>\n",
       "      <td>390.00</td>\n",
       "    </tr>\n",
       "    <tr>\n",
       "      <th>9</th>\n",
       "      <td>Other income (expense)</td>\n",
       "      <td>-2.00</td>\n",
       "      <td>23.00</td>\n",
       "      <td>3.00</td>\n",
       "      <td>-40.00</td>\n",
       "      <td>120.00</td>\n",
       "      <td>53.00</td>\n",
       "    </tr>\n",
       "    <tr>\n",
       "      <th>10</th>\n",
       "      <td>Income before taxes</td>\n",
       "      <td>-396.00</td>\n",
       "      <td>-71.00</td>\n",
       "      <td>-285.00</td>\n",
       "      <td>-876.00</td>\n",
       "      <td>-746.00</td>\n",
       "      <td>-1638.00</td>\n",
       "    </tr>\n",
       "    <tr>\n",
       "      <th>11</th>\n",
       "      <td>Provision for income taxes</td>\n",
       "      <td>0.00</td>\n",
       "      <td>3.00</td>\n",
       "      <td>9.00</td>\n",
       "      <td>13.00</td>\n",
       "      <td>27.00</td>\n",
       "      <td>52.00</td>\n",
       "    </tr>\n",
       "    <tr>\n",
       "      <th>12</th>\n",
       "      <td>Net income from continuing operations</td>\n",
       "      <td>-396.00</td>\n",
       "      <td>-74.00</td>\n",
       "      <td>-294.00</td>\n",
       "      <td>-889.00</td>\n",
       "      <td>-773.00</td>\n",
       "      <td>-1689.00</td>\n",
       "    </tr>\n",
       "    <tr>\n",
       "      <th>13</th>\n",
       "      <td>Other</td>\n",
       "      <td>NaN</td>\n",
       "      <td>NaN</td>\n",
       "      <td>NaN</td>\n",
       "      <td>NaN</td>\n",
       "      <td>98.00</td>\n",
       "      <td>282.00</td>\n",
       "    </tr>\n",
       "    <tr>\n",
       "      <th>14</th>\n",
       "      <td>Net income</td>\n",
       "      <td>-396.00</td>\n",
       "      <td>-74.00</td>\n",
       "      <td>-294.00</td>\n",
       "      <td>-889.00</td>\n",
       "      <td>-675.00</td>\n",
       "      <td>-1407.00</td>\n",
       "    </tr>\n",
       "    <tr>\n",
       "      <th>15</th>\n",
       "      <td>Net income available to common shareholders</td>\n",
       "      <td>-396.00</td>\n",
       "      <td>-74.00</td>\n",
       "      <td>-294.00</td>\n",
       "      <td>-889.00</td>\n",
       "      <td>-675.00</td>\n",
       "      <td>-1407.00</td>\n",
       "    </tr>\n",
       "    <tr>\n",
       "      <th>16</th>\n",
       "      <td>Earnings per share</td>\n",
       "      <td>NaN</td>\n",
       "      <td>NaN</td>\n",
       "      <td>NaN</td>\n",
       "      <td>NaN</td>\n",
       "      <td>NaN</td>\n",
       "      <td>NaN</td>\n",
       "    </tr>\n",
       "    <tr>\n",
       "      <th>17</th>\n",
       "      <td>Basic</td>\n",
       "      <td>-3.69</td>\n",
       "      <td>-0.62</td>\n",
       "      <td>-2.36</td>\n",
       "      <td>-6.93</td>\n",
       "      <td>-4.68</td>\n",
       "      <td>-8.54</td>\n",
       "    </tr>\n",
       "    <tr>\n",
       "      <th>18</th>\n",
       "      <td>Diluted</td>\n",
       "      <td>-3.69</td>\n",
       "      <td>-0.62</td>\n",
       "      <td>-2.36</td>\n",
       "      <td>-6.93</td>\n",
       "      <td>-4.68</td>\n",
       "      <td>-8.54</td>\n",
       "    </tr>\n",
       "    <tr>\n",
       "      <th>19</th>\n",
       "      <td>Weighted average shares outstanding</td>\n",
       "      <td>NaN</td>\n",
       "      <td>NaN</td>\n",
       "      <td>NaN</td>\n",
       "      <td>NaN</td>\n",
       "      <td>NaN</td>\n",
       "      <td>NaN</td>\n",
       "    </tr>\n",
       "    <tr>\n",
       "      <th>20</th>\n",
       "      <td>Basic</td>\n",
       "      <td>107.00</td>\n",
       "      <td>119.00</td>\n",
       "      <td>125.00</td>\n",
       "      <td>128.00</td>\n",
       "      <td>144.00</td>\n",
       "      <td>162.00</td>\n",
       "    </tr>\n",
       "    <tr>\n",
       "      <th>21</th>\n",
       "      <td>Diluted</td>\n",
       "      <td>107.00</td>\n",
       "      <td>119.00</td>\n",
       "      <td>125.00</td>\n",
       "      <td>128.00</td>\n",
       "      <td>144.00</td>\n",
       "      <td>162.00</td>\n",
       "    </tr>\n",
       "    <tr>\n",
       "      <th>22</th>\n",
       "      <td>EBITDA</td>\n",
       "      <td>-367.00</td>\n",
       "      <td>68.00</td>\n",
       "      <td>48.00</td>\n",
       "      <td>-334.00</td>\n",
       "      <td>400.00</td>\n",
       "      <td>246.00</td>\n",
       "    </tr>\n",
       "  </tbody>\n",
       "</table>\n",
       "</div>"
      ],
      "text/plain": [
       "                                         metric  2012-12  2013-12  2014-12  \\\n",
       "0                                       Revenue   413.00  2013.00  3198.00   \n",
       "1                               Cost of revenue   383.00  1557.00  2317.00   \n",
       "2                                  Gross profit    30.00   456.00   882.00   \n",
       "3                            Operating expenses      NaN      NaN      NaN   \n",
       "4                      Research and development   274.00   232.00   465.00   \n",
       "5             Sales, General and administrative   150.00   286.00   604.00   \n",
       "6                      Total operating expenses   424.00   518.00  1068.00   \n",
       "7                              Operating income  -394.00   -61.00  -187.00   \n",
       "8                              Interest Expense     0.00    33.00   101.00   \n",
       "9                        Other income (expense)    -2.00    23.00     3.00   \n",
       "10                          Income before taxes  -396.00   -71.00  -285.00   \n",
       "11                   Provision for income taxes     0.00     3.00     9.00   \n",
       "12        Net income from continuing operations  -396.00   -74.00  -294.00   \n",
       "13                                        Other      NaN      NaN      NaN   \n",
       "14                                   Net income  -396.00   -74.00  -294.00   \n",
       "15  Net income available to common shareholders  -396.00   -74.00  -294.00   \n",
       "16                           Earnings per share      NaN      NaN      NaN   \n",
       "17                                        Basic    -3.69    -0.62    -2.36   \n",
       "18                                      Diluted    -3.69    -0.62    -2.36   \n",
       "19          Weighted average shares outstanding      NaN      NaN      NaN   \n",
       "20                                        Basic   107.00   119.00   125.00   \n",
       "21                                      Diluted   107.00   119.00   125.00   \n",
       "22                                       EBITDA  -367.00    68.00    48.00   \n",
       "\n",
       "    2015-12  2016-12       TTM  \n",
       "0   4046.00  7000.00  10755.00  \n",
       "1   3123.00  5401.00   8536.00  \n",
       "2    924.00  1599.00   2219.00  \n",
       "3       NaN      NaN       NaN  \n",
       "4    718.00   834.00   1269.00  \n",
       "5    922.00  1432.00   2250.00  \n",
       "6   1640.00  2267.00   3520.00  \n",
       "7   -717.00  -667.00  -1301.00  \n",
       "8    119.00   199.00    390.00  \n",
       "9    -40.00   120.00     53.00  \n",
       "10  -876.00  -746.00  -1638.00  \n",
       "11    13.00    27.00     52.00  \n",
       "12  -889.00  -773.00  -1689.00  \n",
       "13      NaN    98.00    282.00  \n",
       "14  -889.00  -675.00  -1407.00  \n",
       "15  -889.00  -675.00  -1407.00  \n",
       "16      NaN      NaN       NaN  \n",
       "17    -6.93    -4.68     -8.54  \n",
       "18    -6.93    -4.68     -8.54  \n",
       "19      NaN      NaN       NaN  \n",
       "20   128.00   144.00    162.00  \n",
       "21   128.00   144.00    162.00  \n",
       "22  -334.00   400.00    246.00  "
      ]
     },
     "execution_count": 242,
     "metadata": {},
     "output_type": "execute_result"
    }
   ],
   "source": [
    "income_statement"
   ]
  },
  {
   "cell_type": "code",
   "execution_count": 243,
   "metadata": {},
   "outputs": [
    {
     "name": "stdout",
     "output_type": "stream",
     "text": [
      "                      metric  2012-12  2013-12  2014-12  2015-12  2016-12  \\\n",
      "0                    Revenue    413.0   2013.0   3198.0   4046.0   7000.0   \n",
      "2               Gross profit     30.0    456.0    882.0    924.0   1599.0   \n",
      "6   Total operating expenses    424.0    518.0   1068.0   1640.0   2267.0   \n",
      "14                Net income   -396.0    -74.0   -294.0   -889.0   -675.0   \n",
      "\n",
      "        TTM  \n",
      "0   10755.0  \n",
      "2    2219.0  \n",
      "6    3520.0  \n",
      "14  -1407.0  \n"
     ]
    }
   ],
   "source": [
    "# Choose some interesting metrics\n",
    "interesting_metrics = ['Revenue', 'Gross profit', 'Total operating expenses', 'Net income']\n",
    "\n",
    "# Filter for rows containing these metrics\n",
    "filtered_income_statement = income_statement[income_statement.metric.isin(interesting_metrics)]\n",
    "\n",
    "# See the result\n",
    "print(filtered_income_statement)"
   ]
  },
  {
   "cell_type": "markdown",
   "metadata": {},
   "source": [
    "### Forecasting profit for Tesla"
   ]
  },
  {
   "cell_type": "markdown",
   "metadata": {},
   "source": [
    "As in the previous exercise, the dataset for the Tesla income statement is named income_statement. Using what we have learned in the previous exercise, we will now append a new column with 2018 Forecast data, which we will assign the header \"Forecast\".\n",
    "\n",
    "For this exercise, we would like to set the filtered_income_statement to only show the row 'Revenue'.\n",
    "\n",
    "Remember, the TTM column is the most recent 12-month value that we will use for the 2018 forecast. Thus far, we have the following information for 2018:\n",
    "\n",
    "    The market demand analysis predicts the revenue to increase to 13,000 in 2018 due to increased sales of Model 3.\n"
   ]
  },
  {
   "cell_type": "code",
   "execution_count": 244,
   "metadata": {},
   "outputs": [
    {
     "name": "stdout",
     "output_type": "stream",
     "text": [
      "    metric  2012-12  2013-12  2014-12  2015-12  2016-12      TTM  Forecast\n",
      "0  Revenue    413.0   2013.0   3198.0   4046.0   7000.0  10755.0     13000\n"
     ]
    }
   ],
   "source": [
    "revenue_metric = ['Revenue']\n",
    "\n",
    "# Filter for rows containing the revenue metric\n",
    "filtered_income_statement = income_statement[income_statement.metric.isin(revenue_metric)]\n",
    "\n",
    "# Get the number of columns in filtered_income_statement\n",
    "n_cols = len(filtered_income_statement.columns)\n",
    "\n",
    "# Insert a column in the correct position containing the column 'Forecast'\n",
    "filtered_income_statement.insert(n_cols, 'Forecast', 13000) \n",
    "\n",
    "# See the result\n",
    "print(filtered_income_statement)"
   ]
  },
  {
   "cell_type": "markdown",
   "metadata": {},
   "source": [
    "# Balance sheet and forecast ratios"
   ]
  },
  {
   "cell_type": "markdown",
   "metadata": {},
   "source": [
    "### Introduction to the balance sheet"
   ]
  },
  {
   "cell_type": "markdown",
   "metadata": {},
   "source": [
    "### Calculating accounts receivable (debtors)"
   ]
  },
  {
   "cell_type": "markdown",
   "metadata": {},
   "source": [
    "When we sell something on credit, the credit portion is in the balance sheet under ‘Accounts Receivable’ or ‘Debtors’. For example, if credit sales are made in January with a 60-day payback period, they would be recorded in our ‘Debtors’ account in January, but only be paid (released) in March, and so on.\n",
    "\n",
    "In this exercise, we will create the following lists:\n",
    "\n",
    "    The credit sales in the month credits, which in this exercise is 60% of the sale value.\n",
    "    The total accounts receivable debtors, to be calculated as the credits for the current month, plus the credits of the month before, minus the credits of two months before (as we assume the credits from 2 months ago or 60 days, will be repaid by then).\n",
    "\n",
    "We have set an index for the variable month. The month value is set at 0."
   ]
  },
  {
   "cell_type": "code",
   "execution_count": 245,
   "metadata": {},
   "outputs": [],
   "source": [
    "month = 0"
   ]
  },
  {
   "cell_type": "code",
   "execution_count": 246,
   "metadata": {},
   "outputs": [
    {
     "name": "stdout",
     "output_type": "stream",
     "text": [
      "The ‘Debtors’ are [300.0, 510.0, 630.0].\n"
     ]
    }
   ],
   "source": [
    "# Create the list for sales, and empty lists for debtors and credits\n",
    "sales = [500, 350, 700]\n",
    "credits = [] \n",
    "debtors = []\n",
    "\n",
    "# Create the statement to append the calculated figures to the debtors and credits lists\n",
    "for mvalue in sales: \n",
    "    credits.append(mvalue * 0.6)\n",
    "    if month > 0:\n",
    "        debtors.append(credits[month] + credits[month-1])\n",
    "    else:\n",
    "        debtors.append(credits[month]) \n",
    "    month += 1\n",
    "# Print the result\n",
    "print(\"The ‘Debtors’ are {}.\".format(debtors))"
   ]
  },
  {
   "cell_type": "markdown",
   "metadata": {},
   "source": [
    "### Bad debts"
   ]
  },
  {
   "cell_type": "markdown",
   "metadata": {},
   "source": [
    "When offering credit terms to customers, there is always a risk that the customer does not pay their debt. In the finance world, this is known as \"bad debts\".\n",
    "\n",
    "As we have already recorded sales, we need to record the loss of sales now, as we never received the payment.\n",
    "\n",
    "This affects both the income statement and the balance sheet. In the income statement, we record a negative value in the sales for the month we write off the debt. In the balance sheet, we need to reduce our debtor’s asset.\n",
    "\n",
    "The following variables have been defined for January: debtors_jan = 1500\n",
    "\n",
    "In February, we received news that a customer has gone into liquidation. This customer currently owes 500 USD.\n",
    "\n",
    "We expect to recover 70% of this amount; the rest has to be written off as bad debts."
   ]
  },
  {
   "cell_type": "code",
   "execution_count": 247,
   "metadata": {},
   "outputs": [],
   "source": [
    "debtors_jan = 1500"
   ]
  },
  {
   "cell_type": "code",
   "execution_count": 248,
   "metadata": {},
   "outputs": [
    {
     "name": "stdout",
     "output_type": "stream",
     "text": [
      "The debtors are 1500 in January, 1350.0 in February. February's bad debts are 150.0 USD.\n"
     ]
    }
   ],
   "source": [
    "# Calculate the bad debts for February\n",
    "bad_debts_feb = 500 * 0.3\n",
    "\n",
    "# Calculate the feb debtors amount\n",
    "debtors_feb = (debtors_jan  - bad_debts_feb)\n",
    "\n",
    "# Print the debtors for January and the bad debts and the debtors for February\n",
    "print(\"The debtors are {} in January, {} in February. February's bad debts are {} USD.\".format(debtors_jan, debtors_feb, bad_debts_feb))"
   ]
  },
  {
   "cell_type": "markdown",
   "metadata": {},
   "source": [
    "### Calculating accounts payable (creditors)"
   ]
  },
  {
   "cell_type": "markdown",
   "metadata": {},
   "source": [
    "Now we will look at a scenario where we are the ones being granted credit. This means that we can buy something, but only have to pay for this amount later.\n",
    "\n",
    "In this exercise, T-Z needs to buy nuts and bolts to produce 1000 units in January and 1200 units in February. The cost of nuts and bolts per unit is 0.25 USD. The credit terms are 50% cash upfront and 50% in 30 days.\n",
    "\n",
    "Therefore, the creditors' value, in this case, would be paid the month directly after. This means that the creditors' value would only reflect the current month's credit purchases."
   ]
  },
  {
   "cell_type": "code",
   "execution_count": 249,
   "metadata": {},
   "outputs": [
    {
     "name": "stdout",
     "output_type": "stream",
     "text": [
      "The creditors balance for January and February are 125.0 and 150.0 USD.\n"
     ]
    }
   ],
   "source": [
    "# Set the cost per unit\n",
    "unit_cost = 0.25\n",
    "\n",
    "# Create the list for production units and empty list for creditors\n",
    "production = [1000,1200]\n",
    "creditors = []\n",
    "\n",
    "# Calculate the accounts payable for January and February\n",
    "for mvalue in production: \n",
    "    creditors.append(mvalue * unit_cost * 0.5)\n",
    "    \n",
    "# Print the creditors balance for January and February\n",
    "print(\"The creditors balance for January and February are {} and {} USD.\".format(creditors[0], creditors[1]))"
   ]
  },
  {
   "cell_type": "markdown",
   "metadata": {},
   "source": [
    "# Balance sheet efficiency ratios"
   ]
  },
  {
   "cell_type": "markdown",
   "metadata": {},
   "source": [
    "### Debtor days ratio"
   ]
  },
  {
   "cell_type": "markdown",
   "metadata": {},
   "source": [
    "The first ratio we will look at is debtor days. This ratio looks at how many days it takes to receive our money from our debtors. It is usually calculated over a period of 1 financial year.\n",
    "\n",
    "The ratio is as follows:\n",
    "\n",
    "The following information is available to you:\n",
    "\n",
    "    Sales for the year: 12,500 USD\n",
    "    Ending Debtors balance: 650\n"
   ]
  },
  {
   "cell_type": "code",
   "execution_count": 250,
   "metadata": {},
   "outputs": [
    {
     "name": "stdout",
     "output_type": "stream",
     "text": [
      "The debtor days ratio is 18.98.\n"
     ]
    }
   ],
   "source": [
    "# Create the variables\n",
    "debtors_end = 650\n",
    "sales_tot = 12500\n",
    "\n",
    "# Calculate the debtor days variable\n",
    "ddays_ratio = (debtors_end/sales_tot) * 365\n",
    "\n",
    "# Print the result\n",
    "print(\"The debtor days ratio is {}.\".format(ddays_ratio))\n"
   ]
  },
  {
   "cell_type": "markdown",
   "metadata": {},
   "source": [
    "### Days payable outstanding"
   ]
  },
  {
   "cell_type": "markdown",
   "metadata": {},
   "source": [
    "W# Get the variables\n",
    "cogs_tot = 4000\n",
    "creditors_end = 650\n",
    "\n",
    "# Calculate the days payable outstanding\n",
    "dpo = (creditors_end/cogs_tot)*365\n",
    "\n",
    "# Print the days payable outstanding\n",
    "print(\"The days payable outstanding is {}.\".format(dpo))e will now have a look at our accounts payable, or creditors, and a ratio called the Days Payable Outstanding (DPO).\n",
    "\n",
    "This ratio is an efficiency ratio that measures the average number of days a company takes to pay its suppliers.\n",
    "\n",
    "The DPO ratio is calculated as follows:\n",
    "\n",
    "T-Z wants to know its days payable outstanding and has asked you to calculate it.\n",
    "\n",
    "The following is available in the workspace:\n",
    "\n",
    "    Total COGS for the period = 4000\n",
    "    Closing Payables balance = 650\n"
   ]
  },
  {
   "cell_type": "code",
   "execution_count": 251,
   "metadata": {},
   "outputs": [
    {
     "name": "stdout",
     "output_type": "stream",
     "text": [
      "The days payable outstanding is 59.3125.\n"
     ]
    }
   ],
   "source": [
    "# Get the variables\n",
    "cogs_tot = 4000\n",
    "creditors_end = 650\n",
    "\n",
    "# Calculate the days payable outstanding\n",
    "dpo = (creditors_end/cogs_tot)*365\n",
    "\n",
    "# Print the days payable outstanding\n",
    "print(\"The days payable outstanding is {}.\".format(dpo))"
   ]
  },
  {
   "cell_type": "markdown",
   "metadata": {},
   "source": [
    "### Days in inventory and asset turnover ratio"
   ]
  },
  {
   "cell_type": "markdown",
   "metadata": {},
   "source": [
    "In this exercise, we will calculate the time it takes for a company to turn inventory into sales (days in inventory or DII ratio) and a ratio to calculate the efficiency of a company’s assets by seeing how the company uses its assets to generate sales (asset turnover ratio). The required formulas are:\n",
    "\n",
    "The following are preloaded:\n",
    "Metric \tVariable \tValue\n",
    "Total COGS \tcogs_tot \t4000\n",
    "Average Inventory \tav_inv \t1900\n",
    "Total Sales \tsales_tot \t10000\n",
    "Opening balance Assets \tob_assets \t2000\n",
    "Closing balance Assets \tcb_assets \t7000"
   ]
  },
  {
   "cell_type": "code",
   "execution_count": 252,
   "metadata": {},
   "outputs": [],
   "source": [
    "# Get the variables\n",
    "cogs_tot = 4000\n",
    "creditors_end = 650\n",
    "av_inv = 1900\n",
    "sales_tot = 10000\n",
    "ob_assets = 2000\n",
    "cb_assets = 7000"
   ]
  },
  {
   "cell_type": "code",
   "execution_count": 253,
   "metadata": {},
   "outputs": [
    {
     "name": "stdout",
     "output_type": "stream",
     "text": [
      "The DII ratio is 173.375.\n"
     ]
    }
   ],
   "source": [
    "# Calculate the dii ratio \n",
    "dii_ratio = (av_inv/cogs_tot )*365\n",
    "\n",
    "# Print the result\n",
    "print(\"The DII ratio is {}.\".format(dii_ratio))"
   ]
  },
  {
   "cell_type": "code",
   "execution_count": 254,
   "metadata": {},
   "outputs": [
    {
     "name": "stdout",
     "output_type": "stream",
     "text": [
      "The asset turnover ratio is 2.2222222222222223.\n"
     ]
    }
   ],
   "source": [
    "# Calculate the Average Assets\n",
    "av_assets = (ob_assets + cb_assets)/2\n",
    "\n",
    "# Calculate the Asset Turnover Ratio\n",
    "at_ratio = sales_tot/av_assets\n",
    "\n",
    "# Print the Asset Turnover Ratio\n",
    "print(\"The asset turnover ratio is {}.\".format(at_ratio))\n"
   ]
  },
  {
   "cell_type": "markdown",
   "metadata": {},
   "source": [
    "### Calculating balance sheet ratios for Ford"
   ]
  },
  {
   "cell_type": "markdown",
   "metadata": {},
   "source": [
    "Now we will look at a real life example, Ford Inc, a company producing motor vehicles. We have uploaded a dataset: balance_sheet with the data for Ford Inc's most recent balance sheet. The sales and cost of sales figures have been provided for 2017 with the Key_Figures_Memodataset.\n",
    "\n",
    "We are only interested in one line on the balance sheet, the Receivables (another name for Debtors), and therefore need to create a filter for this. In this exercise, we will use boolean indexing to filter our dataset for Receivables in the metric column. We will first specify our metric of interest ('Receivables'), and then check whether the column of interest has this value in each row. This will generate a boolean series of True and False values. With this series, we can then filter our existing dataset.\n",
    "\n",
    "Once we have filtered our dataset, we can retrieve the receivables values from the most recent time period and calculate the debtor days ratio (provided below).\n",
    "\n",
    "The balance_sheet and sales figures are provided."
   ]
  },
  {
   "cell_type": "code",
   "execution_count": 255,
   "metadata": {},
   "outputs": [],
   "source": [
    "# Import the data\n",
    "balance_sheet = pd.read_csv('F-Balance-Sheet.csv', )"
   ]
  },
  {
   "cell_type": "code",
   "execution_count": 256,
   "metadata": {},
   "outputs": [
    {
     "data": {
      "text/html": [
       "<div>\n",
       "<style scoped>\n",
       "    .dataframe tbody tr th:only-of-type {\n",
       "        vertical-align: middle;\n",
       "    }\n",
       "\n",
       "    .dataframe tbody tr th {\n",
       "        vertical-align: top;\n",
       "    }\n",
       "\n",
       "    .dataframe thead th {\n",
       "        text-align: right;\n",
       "    }\n",
       "</style>\n",
       "<table border=\"1\" class=\"dataframe\">\n",
       "  <thead>\n",
       "    <tr style=\"text-align: right;\">\n",
       "      <th></th>\n",
       "      <th>metric</th>\n",
       "      <th>2013-12</th>\n",
       "      <th>2014-12</th>\n",
       "      <th>2015-12</th>\n",
       "      <th>2016-12</th>\n",
       "      <th>2017-12</th>\n",
       "    </tr>\n",
       "  </thead>\n",
       "  <tbody>\n",
       "    <tr>\n",
       "      <th>0</th>\n",
       "      <td>Assets</td>\n",
       "      <td>NaN</td>\n",
       "      <td>NaN</td>\n",
       "      <td>NaN</td>\n",
       "      <td>NaN</td>\n",
       "      <td>NaN</td>\n",
       "    </tr>\n",
       "    <tr>\n",
       "      <th>1</th>\n",
       "      <td>Current assets</td>\n",
       "      <td>NaN</td>\n",
       "      <td>NaN</td>\n",
       "      <td>NaN</td>\n",
       "      <td>NaN</td>\n",
       "      <td>NaN</td>\n",
       "    </tr>\n",
       "    <tr>\n",
       "      <th>2</th>\n",
       "      <td>Cash</td>\n",
       "      <td>NaN</td>\n",
       "      <td>NaN</td>\n",
       "      <td>NaN</td>\n",
       "      <td>NaN</td>\n",
       "      <td>NaN</td>\n",
       "    </tr>\n",
       "    <tr>\n",
       "      <th>3</th>\n",
       "      <td>Cash and cash equivalents</td>\n",
       "      <td>14468.0</td>\n",
       "      <td>10757.0</td>\n",
       "      <td>14272.0</td>\n",
       "      <td>15905.0</td>\n",
       "      <td>18492.0</td>\n",
       "    </tr>\n",
       "    <tr>\n",
       "      <th>4</th>\n",
       "      <td>Short-term investments</td>\n",
       "      <td>22100.0</td>\n",
       "      <td>20393.0</td>\n",
       "      <td>20904.0</td>\n",
       "      <td>22922.0</td>\n",
       "      <td>20435.0</td>\n",
       "    </tr>\n",
       "    <tr>\n",
       "      <th>5</th>\n",
       "      <td>Total cash</td>\n",
       "      <td>36568.0</td>\n",
       "      <td>31150.0</td>\n",
       "      <td>35176.0</td>\n",
       "      <td>38827.0</td>\n",
       "      <td>38927.0</td>\n",
       "    </tr>\n",
       "    <tr>\n",
       "      <th>6</th>\n",
       "      <td>Receivables</td>\n",
       "      <td>87309.0</td>\n",
       "      <td>92819.0</td>\n",
       "      <td>101975.0</td>\n",
       "      <td>57368.0</td>\n",
       "      <td>62809.0</td>\n",
       "    </tr>\n",
       "    <tr>\n",
       "      <th>7</th>\n",
       "      <td>Inventories</td>\n",
       "      <td>7708.0</td>\n",
       "      <td>7866.0</td>\n",
       "      <td>8319.0</td>\n",
       "      <td>8898.0</td>\n",
       "      <td>10277.0</td>\n",
       "    </tr>\n",
       "    <tr>\n",
       "      <th>8</th>\n",
       "      <td>Other current assets</td>\n",
       "      <td>NaN</td>\n",
       "      <td>NaN</td>\n",
       "      <td>NaN</td>\n",
       "      <td>3368.0</td>\n",
       "      <td>3889.0</td>\n",
       "    </tr>\n",
       "    <tr>\n",
       "      <th>9</th>\n",
       "      <td>Total current assets</td>\n",
       "      <td>131585.0</td>\n",
       "      <td>131835.0</td>\n",
       "      <td>145470.0</td>\n",
       "      <td>108461.0</td>\n",
       "      <td>115902.0</td>\n",
       "    </tr>\n",
       "    <tr>\n",
       "      <th>10</th>\n",
       "      <td>Non-current assets</td>\n",
       "      <td>NaN</td>\n",
       "      <td>NaN</td>\n",
       "      <td>NaN</td>\n",
       "      <td>NaN</td>\n",
       "      <td>NaN</td>\n",
       "    </tr>\n",
       "    <tr>\n",
       "      <th>11</th>\n",
       "      <td>Property, plant and equipment</td>\n",
       "      <td>NaN</td>\n",
       "      <td>NaN</td>\n",
       "      <td>NaN</td>\n",
       "      <td>NaN</td>\n",
       "      <td>NaN</td>\n",
       "    </tr>\n",
       "    <tr>\n",
       "      <th>12</th>\n",
       "      <td>Gross property, plant and equipment</td>\n",
       "      <td>59092.0</td>\n",
       "      <td>59260.0</td>\n",
       "      <td>57629.0</td>\n",
       "      <td>59876.0</td>\n",
       "      <td>65189.0</td>\n",
       "    </tr>\n",
       "    <tr>\n",
       "      <th>13</th>\n",
       "      <td>Accumulated Depreciation</td>\n",
       "      <td>-31476.0</td>\n",
       "      <td>-29134.0</td>\n",
       "      <td>-27466.0</td>\n",
       "      <td>-27804.0</td>\n",
       "      <td>-29862.0</td>\n",
       "    </tr>\n",
       "    <tr>\n",
       "      <th>14</th>\n",
       "      <td>Net property, plant and equipment</td>\n",
       "      <td>27616.0</td>\n",
       "      <td>30126.0</td>\n",
       "      <td>30163.0</td>\n",
       "      <td>32072.0</td>\n",
       "      <td>35327.0</td>\n",
       "    </tr>\n",
       "    <tr>\n",
       "      <th>15</th>\n",
       "      <td>Equity and other investments</td>\n",
       "      <td>23663.0</td>\n",
       "      <td>26574.0</td>\n",
       "      <td>30317.0</td>\n",
       "      <td>32133.0</td>\n",
       "      <td>31320.0</td>\n",
       "    </tr>\n",
       "    <tr>\n",
       "      <th>16</th>\n",
       "      <td>Deferred income taxes</td>\n",
       "      <td>13315.0</td>\n",
       "      <td>13639.0</td>\n",
       "      <td>11509.0</td>\n",
       "      <td>9705.0</td>\n",
       "      <td>10973.0</td>\n",
       "    </tr>\n",
       "    <tr>\n",
       "      <th>17</th>\n",
       "      <td>Other long-term assets</td>\n",
       "      <td>5847.0</td>\n",
       "      <td>6353.0</td>\n",
       "      <td>7466.0</td>\n",
       "      <td>55580.0</td>\n",
       "      <td>64286.0</td>\n",
       "    </tr>\n",
       "    <tr>\n",
       "      <th>18</th>\n",
       "      <td>Total non-current assets</td>\n",
       "      <td>70441.0</td>\n",
       "      <td>76692.0</td>\n",
       "      <td>79455.0</td>\n",
       "      <td>129490.0</td>\n",
       "      <td>141906.0</td>\n",
       "    </tr>\n",
       "    <tr>\n",
       "      <th>19</th>\n",
       "      <td>Total assets</td>\n",
       "      <td>202026.0</td>\n",
       "      <td>208527.0</td>\n",
       "      <td>224925.0</td>\n",
       "      <td>237951.0</td>\n",
       "      <td>257808.0</td>\n",
       "    </tr>\n",
       "    <tr>\n",
       "      <th>20</th>\n",
       "      <td>Liabilities and stockholders' equity</td>\n",
       "      <td>NaN</td>\n",
       "      <td>NaN</td>\n",
       "      <td>NaN</td>\n",
       "      <td>NaN</td>\n",
       "      <td>NaN</td>\n",
       "    </tr>\n",
       "    <tr>\n",
       "      <th>21</th>\n",
       "      <td>Liabilities</td>\n",
       "      <td>NaN</td>\n",
       "      <td>NaN</td>\n",
       "      <td>NaN</td>\n",
       "      <td>NaN</td>\n",
       "      <td>NaN</td>\n",
       "    </tr>\n",
       "    <tr>\n",
       "      <th>22</th>\n",
       "      <td>Current liabilities</td>\n",
       "      <td>NaN</td>\n",
       "      <td>NaN</td>\n",
       "      <td>NaN</td>\n",
       "      <td>NaN</td>\n",
       "      <td>NaN</td>\n",
       "    </tr>\n",
       "    <tr>\n",
       "      <th>23</th>\n",
       "      <td>Short-term debt</td>\n",
       "      <td>38063.0</td>\n",
       "      <td>39172.0</td>\n",
       "      <td>42998.0</td>\n",
       "      <td>49669.0</td>\n",
       "      <td>51621.0</td>\n",
       "    </tr>\n",
       "    <tr>\n",
       "      <th>24</th>\n",
       "      <td>Accrued liabilities</td>\n",
       "      <td>2682.0</td>\n",
       "      <td>2987.0</td>\n",
       "      <td>2385.0</td>\n",
       "      <td>NaN</td>\n",
       "      <td>13849.0</td>\n",
       "    </tr>\n",
       "    <tr>\n",
       "      <th>25</th>\n",
       "      <td>Deferred revenues</td>\n",
       "      <td>2817.0</td>\n",
       "      <td>3923.0</td>\n",
       "      <td>4559.0</td>\n",
       "      <td>19316.0</td>\n",
       "      <td>2107.0</td>\n",
       "    </tr>\n",
       "    <tr>\n",
       "      <th>26</th>\n",
       "      <td>Other current liabilities</td>\n",
       "      <td>30569.0</td>\n",
       "      <td>31059.0</td>\n",
       "      <td>31320.0</td>\n",
       "      <td>21296.0</td>\n",
       "      <td>27023.0</td>\n",
       "    </tr>\n",
       "    <tr>\n",
       "      <th>27</th>\n",
       "      <td>Total current liabilities</td>\n",
       "      <td>74131.0</td>\n",
       "      <td>77141.0</td>\n",
       "      <td>81262.0</td>\n",
       "      <td>90281.0</td>\n",
       "      <td>94600.0</td>\n",
       "    </tr>\n",
       "    <tr>\n",
       "      <th>28</th>\n",
       "      <td>Non-current liabilities</td>\n",
       "      <td>NaN</td>\n",
       "      <td>NaN</td>\n",
       "      <td>NaN</td>\n",
       "      <td>NaN</td>\n",
       "      <td>NaN</td>\n",
       "    </tr>\n",
       "    <tr>\n",
       "      <th>29</th>\n",
       "      <td>Long-term debt</td>\n",
       "      <td>76625.0</td>\n",
       "      <td>79999.0</td>\n",
       "      <td>89856.0</td>\n",
       "      <td>93301.0</td>\n",
       "      <td>102666.0</td>\n",
       "    </tr>\n",
       "    <tr>\n",
       "      <th>30</th>\n",
       "      <td>Deferred taxes liabilities</td>\n",
       "      <td>598.0</td>\n",
       "      <td>570.0</td>\n",
       "      <td>502.0</td>\n",
       "      <td>691.0</td>\n",
       "      <td>815.0</td>\n",
       "    </tr>\n",
       "    <tr>\n",
       "      <th>31</th>\n",
       "      <td>Accrued liabilities</td>\n",
       "      <td>2260.0</td>\n",
       "      <td>NaN</td>\n",
       "      <td>NaN</td>\n",
       "      <td>NaN</td>\n",
       "      <td>NaN</td>\n",
       "    </tr>\n",
       "    <tr>\n",
       "      <th>32</th>\n",
       "      <td>Deferred revenues</td>\n",
       "      <td>2534.0</td>\n",
       "      <td>2686.0</td>\n",
       "      <td>2833.0</td>\n",
       "      <td>24395.0</td>\n",
       "      <td>24711.0</td>\n",
       "    </tr>\n",
       "    <tr>\n",
       "      <th>33</th>\n",
       "      <td>Pensions and other benefits</td>\n",
       "      <td>14790.0</td>\n",
       "      <td>15712.0</td>\n",
       "      <td>9541.0</td>\n",
       "      <td>NaN</td>\n",
       "      <td>NaN</td>\n",
       "    </tr>\n",
       "    <tr>\n",
       "      <th>34</th>\n",
       "      <td>Minority interest</td>\n",
       "      <td>33.0</td>\n",
       "      <td>27.0</td>\n",
       "      <td>15.0</td>\n",
       "      <td>17.0</td>\n",
       "      <td>28.0</td>\n",
       "    </tr>\n",
       "    <tr>\n",
       "      <th>35</th>\n",
       "      <td>Other long-term liabilities</td>\n",
       "      <td>4672.0</td>\n",
       "      <td>7587.0</td>\n",
       "      <td>12274.0</td>\n",
       "      <td>96.0</td>\n",
       "      <td>98.0</td>\n",
       "    </tr>\n",
       "    <tr>\n",
       "      <th>36</th>\n",
       "      <td>Total non-current liabilities</td>\n",
       "      <td>101512.0</td>\n",
       "      <td>106581.0</td>\n",
       "      <td>115021.0</td>\n",
       "      <td>118500.0</td>\n",
       "      <td>128318.0</td>\n",
       "    </tr>\n",
       "    <tr>\n",
       "      <th>37</th>\n",
       "      <td>Total liabilities</td>\n",
       "      <td>175643.0</td>\n",
       "      <td>183722.0</td>\n",
       "      <td>196283.0</td>\n",
       "      <td>208781.0</td>\n",
       "      <td>222918.0</td>\n",
       "    </tr>\n",
       "    <tr>\n",
       "      <th>38</th>\n",
       "      <td>Stockholders' equity</td>\n",
       "      <td>NaN</td>\n",
       "      <td>NaN</td>\n",
       "      <td>NaN</td>\n",
       "      <td>NaN</td>\n",
       "      <td>NaN</td>\n",
       "    </tr>\n",
       "    <tr>\n",
       "      <th>39</th>\n",
       "      <td>Common stock</td>\n",
       "      <td>40.0</td>\n",
       "      <td>40.0</td>\n",
       "      <td>41.0</td>\n",
       "      <td>41.0</td>\n",
       "      <td>41.0</td>\n",
       "    </tr>\n",
       "    <tr>\n",
       "      <th>40</th>\n",
       "      <td>Additional paid-in capital</td>\n",
       "      <td>21422.0</td>\n",
       "      <td>21089.0</td>\n",
       "      <td>21421.0</td>\n",
       "      <td>21630.0</td>\n",
       "      <td>21843.0</td>\n",
       "    </tr>\n",
       "    <tr>\n",
       "      <th>41</th>\n",
       "      <td>Retained earnings</td>\n",
       "      <td>23658.0</td>\n",
       "      <td>24556.0</td>\n",
       "      <td>14414.0</td>\n",
       "      <td>15634.0</td>\n",
       "      <td>21218.0</td>\n",
       "    </tr>\n",
       "    <tr>\n",
       "      <th>42</th>\n",
       "      <td>Treasury stock</td>\n",
       "      <td>-506.0</td>\n",
       "      <td>-848.0</td>\n",
       "      <td>-977.0</td>\n",
       "      <td>-1122.0</td>\n",
       "      <td>-1253.0</td>\n",
       "    </tr>\n",
       "    <tr>\n",
       "      <th>43</th>\n",
       "      <td>Accumulated other comprehensive income</td>\n",
       "      <td>-18231.0</td>\n",
       "      <td>-20032.0</td>\n",
       "      <td>-6257.0</td>\n",
       "      <td>-7013.0</td>\n",
       "      <td>-6959.0</td>\n",
       "    </tr>\n",
       "    <tr>\n",
       "      <th>44</th>\n",
       "      <td>Total stockholders' equity</td>\n",
       "      <td>26383.0</td>\n",
       "      <td>24805.0</td>\n",
       "      <td>28642.0</td>\n",
       "      <td>29170.0</td>\n",
       "      <td>34890.0</td>\n",
       "    </tr>\n",
       "    <tr>\n",
       "      <th>45</th>\n",
       "      <td>Total liabilities and stockholders' equity</td>\n",
       "      <td>202026.0</td>\n",
       "      <td>208527.0</td>\n",
       "      <td>224925.0</td>\n",
       "      <td>237951.0</td>\n",
       "      <td>257808.0</td>\n",
       "    </tr>\n",
       "  </tbody>\n",
       "</table>\n",
       "</div>"
      ],
      "text/plain": [
       "                                        metric   2013-12   2014-12   2015-12  \\\n",
       "0                                       Assets       NaN       NaN       NaN   \n",
       "1                               Current assets       NaN       NaN       NaN   \n",
       "2                                         Cash       NaN       NaN       NaN   \n",
       "3                    Cash and cash equivalents   14468.0   10757.0   14272.0   \n",
       "4                       Short-term investments   22100.0   20393.0   20904.0   \n",
       "5                                   Total cash   36568.0   31150.0   35176.0   \n",
       "6                                  Receivables   87309.0   92819.0  101975.0   \n",
       "7                                  Inventories    7708.0    7866.0    8319.0   \n",
       "8                         Other current assets       NaN       NaN       NaN   \n",
       "9                         Total current assets  131585.0  131835.0  145470.0   \n",
       "10                          Non-current assets       NaN       NaN       NaN   \n",
       "11               Property, plant and equipment       NaN       NaN       NaN   \n",
       "12         Gross property, plant and equipment   59092.0   59260.0   57629.0   \n",
       "13                    Accumulated Depreciation  -31476.0  -29134.0  -27466.0   \n",
       "14           Net property, plant and equipment   27616.0   30126.0   30163.0   \n",
       "15                Equity and other investments   23663.0   26574.0   30317.0   \n",
       "16                       Deferred income taxes   13315.0   13639.0   11509.0   \n",
       "17                      Other long-term assets    5847.0    6353.0    7466.0   \n",
       "18                    Total non-current assets   70441.0   76692.0   79455.0   \n",
       "19                                Total assets  202026.0  208527.0  224925.0   \n",
       "20        Liabilities and stockholders' equity       NaN       NaN       NaN   \n",
       "21                                 Liabilities       NaN       NaN       NaN   \n",
       "22                         Current liabilities       NaN       NaN       NaN   \n",
       "23                             Short-term debt   38063.0   39172.0   42998.0   \n",
       "24                         Accrued liabilities    2682.0    2987.0    2385.0   \n",
       "25                           Deferred revenues    2817.0    3923.0    4559.0   \n",
       "26                   Other current liabilities   30569.0   31059.0   31320.0   \n",
       "27                   Total current liabilities   74131.0   77141.0   81262.0   \n",
       "28                     Non-current liabilities       NaN       NaN       NaN   \n",
       "29                              Long-term debt   76625.0   79999.0   89856.0   \n",
       "30                  Deferred taxes liabilities     598.0     570.0     502.0   \n",
       "31                         Accrued liabilities    2260.0       NaN       NaN   \n",
       "32                           Deferred revenues    2534.0    2686.0    2833.0   \n",
       "33                 Pensions and other benefits   14790.0   15712.0    9541.0   \n",
       "34                           Minority interest      33.0      27.0      15.0   \n",
       "35                 Other long-term liabilities    4672.0    7587.0   12274.0   \n",
       "36               Total non-current liabilities  101512.0  106581.0  115021.0   \n",
       "37                           Total liabilities  175643.0  183722.0  196283.0   \n",
       "38                        Stockholders' equity       NaN       NaN       NaN   \n",
       "39                                Common stock      40.0      40.0      41.0   \n",
       "40                  Additional paid-in capital   21422.0   21089.0   21421.0   \n",
       "41                           Retained earnings   23658.0   24556.0   14414.0   \n",
       "42                              Treasury stock    -506.0    -848.0    -977.0   \n",
       "43      Accumulated other comprehensive income  -18231.0  -20032.0   -6257.0   \n",
       "44                  Total stockholders' equity   26383.0   24805.0   28642.0   \n",
       "45  Total liabilities and stockholders' equity  202026.0  208527.0  224925.0   \n",
       "\n",
       "     2016-12   2017-12  \n",
       "0        NaN       NaN  \n",
       "1        NaN       NaN  \n",
       "2        NaN       NaN  \n",
       "3    15905.0   18492.0  \n",
       "4    22922.0   20435.0  \n",
       "5    38827.0   38927.0  \n",
       "6    57368.0   62809.0  \n",
       "7     8898.0   10277.0  \n",
       "8     3368.0    3889.0  \n",
       "9   108461.0  115902.0  \n",
       "10       NaN       NaN  \n",
       "11       NaN       NaN  \n",
       "12   59876.0   65189.0  \n",
       "13  -27804.0  -29862.0  \n",
       "14   32072.0   35327.0  \n",
       "15   32133.0   31320.0  \n",
       "16    9705.0   10973.0  \n",
       "17   55580.0   64286.0  \n",
       "18  129490.0  141906.0  \n",
       "19  237951.0  257808.0  \n",
       "20       NaN       NaN  \n",
       "21       NaN       NaN  \n",
       "22       NaN       NaN  \n",
       "23   49669.0   51621.0  \n",
       "24       NaN   13849.0  \n",
       "25   19316.0    2107.0  \n",
       "26   21296.0   27023.0  \n",
       "27   90281.0   94600.0  \n",
       "28       NaN       NaN  \n",
       "29   93301.0  102666.0  \n",
       "30     691.0     815.0  \n",
       "31       NaN       NaN  \n",
       "32   24395.0   24711.0  \n",
       "33       NaN       NaN  \n",
       "34      17.0      28.0  \n",
       "35      96.0      98.0  \n",
       "36  118500.0  128318.0  \n",
       "37  208781.0  222918.0  \n",
       "38       NaN       NaN  \n",
       "39      41.0      41.0  \n",
       "40   21630.0   21843.0  \n",
       "41   15634.0   21218.0  \n",
       "42   -1122.0   -1253.0  \n",
       "43   -7013.0   -6959.0  \n",
       "44   29170.0   34890.0  \n",
       "45  237951.0  257808.0  "
      ]
     },
     "execution_count": 256,
     "metadata": {},
     "output_type": "execute_result"
    }
   ],
   "source": [
    "balance_sheet"
   ]
  },
  {
   "cell_type": "code",
   "execution_count": 257,
   "metadata": {},
   "outputs": [],
   "source": [
    "# Create the filter metric for Receivables\n",
    "receivables_metric = ['Receivables']\n",
    "\n",
    "# Create a boolean series with your metric\n",
    "receivables_filter = balance_sheet.metric.isin(receivables_metric)\n",
    "\n",
    "# Use the series to filter the dataset\n",
    "filtered_balance_sheet = balance_sheet[receivables_filter]"
   ]
  },
  {
   "cell_type": "code",
   "execution_count": 258,
   "metadata": {},
   "outputs": [
    {
     "data": {
      "text/html": [
       "<div>\n",
       "<style scoped>\n",
       "    .dataframe tbody tr th:only-of-type {\n",
       "        vertical-align: middle;\n",
       "    }\n",
       "\n",
       "    .dataframe tbody tr th {\n",
       "        vertical-align: top;\n",
       "    }\n",
       "\n",
       "    .dataframe thead th {\n",
       "        text-align: right;\n",
       "    }\n",
       "</style>\n",
       "<table border=\"1\" class=\"dataframe\">\n",
       "  <thead>\n",
       "    <tr style=\"text-align: right;\">\n",
       "      <th></th>\n",
       "      <th>metric</th>\n",
       "      <th>2013-12</th>\n",
       "      <th>2014-12</th>\n",
       "      <th>2015-12</th>\n",
       "      <th>2016-12</th>\n",
       "      <th>2017-12</th>\n",
       "    </tr>\n",
       "  </thead>\n",
       "  <tbody>\n",
       "    <tr>\n",
       "      <th>6</th>\n",
       "      <td>Receivables</td>\n",
       "      <td>87309.0</td>\n",
       "      <td>92819.0</td>\n",
       "      <td>101975.0</td>\n",
       "      <td>57368.0</td>\n",
       "      <td>62809.0</td>\n",
       "    </tr>\n",
       "  </tbody>\n",
       "</table>\n",
       "</div>"
      ],
      "text/plain": [
       "        metric  2013-12  2014-12   2015-12  2016-12  2017-12\n",
       "6  Receivables  87309.0  92819.0  101975.0  57368.0  62809.0"
      ]
     },
     "execution_count": 258,
     "metadata": {},
     "output_type": "execute_result"
    }
   ],
   "source": [
    "filtered_balance_sheet\n"
   ]
  },
  {
   "cell_type": "code",
   "execution_count": 259,
   "metadata": {},
   "outputs": [],
   "source": [
    "# Extract the zeroth value from the last time period (2017-12)\n",
    "debtors_end = filtered_balance_sheet['2017-12'].iloc[0]"
   ]
  },
  {
   "cell_type": "code",
   "execution_count": 260,
   "metadata": {},
   "outputs": [
    {
     "data": {
      "text/plain": [
       "62809.0"
      ]
     },
     "execution_count": 260,
     "metadata": {},
     "output_type": "execute_result"
    }
   ],
   "source": [
    "debtors_end"
   ]
  },
  {
   "cell_type": "code",
   "execution_count": 261,
   "metadata": {},
   "outputs": [],
   "source": [
    "sales = 156776"
   ]
  },
  {
   "cell_type": "code",
   "execution_count": 262,
   "metadata": {},
   "outputs": [
    {
     "name": "stdout",
     "output_type": "stream",
     "text": [
      "The debtor day ratio is 146. A higher debtors days ratio means it takes longer to collect cash from debtors.\n"
     ]
    }
   ],
   "source": [
    "# Calculate the debtor days ratio\n",
    "ddays = (debtors_end / sales) * 365\n",
    "\n",
    "# Print the debtor days ratio\n",
    "print(\"The debtor day ratio is {:.0f}. A higher debtors days ratio means it takes longer to collect cash from debtors.\".format(ddays))"
   ]
  },
  {
   "cell_type": "markdown",
   "metadata": {},
   "source": [
    "### Forecasting the balance sheet for Ford"
   ]
  },
  {
   "cell_type": "markdown",
   "metadata": {},
   "source": [
    "Now that we have the ratios for Ford, the management wishes to improve them for the 2018 financial year.\n",
    "\n",
    "There is one ratio in particular that management would like to be improved – the debtor days ratio, which is currently sitting at 146 days, while better than Nissan (244 days), is still much higher than Toyota, the industry leader (31 days).\n",
    "\n",
    "Management would like to bring the debtor days down to below 100 days.\n",
    "\n",
    "These variables have already been set:\n",
    "\n",
    "    filtered_balance_sheet contains the receivables row of the balance sheet.\n",
    "    ddays = 99 is the target debtor days.\n",
    "    sales = 156776 is the existing sales total.\n",
    "\n",
    "The formula to calculate debtor days is:\n",
    "."
   ]
  },
  {
   "cell_type": "markdown",
   "metadata": {},
   "source": [
    "<math xmlns=\"http://www.w3.org/1998/Math/MathML\">\n",
    "  <mstyle displaystyle=\"true\" scriptlevel=\"0\">\n",
    "    <mfrac>\n",
    "      <mtext>closing balance debtors / ddays = 99</mtext>\n",
    "      <mtext>sales</mtext>\n",
    "    </mfrac>\n",
    "  </mstyle>\n",
    "  <mo>&#x2217;</mo>\n",
    "  <mn>365</mn>\n",
    "</math>"
   ]
  },
  {
   "cell_type": "code",
   "execution_count": 263,
   "metadata": {},
   "outputs": [],
   "source": [
    "ddays = 99\n",
    "sales = 156776"
   ]
  },
  {
   "cell_type": "code",
   "execution_count": 264,
   "metadata": {},
   "outputs": [
    {
     "name": "stdout",
     "output_type": "stream",
     "text": [
      "If sales rise by 10% and the debtor days decrease to 99 then the forecasted closing balance for debtors will be 46775.\n"
     ]
    }
   ],
   "source": [
    "# Calculate the forecasted sales \n",
    "f_sales = sales * 1.1\n",
    "\n",
    "# Solve for the forecasted debtors' ending balance\n",
    "f_debtors_end = ddays  * f_sales  / 365\n",
    "\n",
    "print(\"If sales rise by 10% and the debtor days decrease to {:.0f} then the forecasted closing balance for debtors will be {:.0f}.\".format(ddays, f_debtors_end))\n"
   ]
  },
  {
   "cell_type": "code",
   "execution_count": 265,
   "metadata": {},
   "outputs": [
    {
     "name": "stdout",
     "output_type": "stream",
     "text": [
      "        metric  2013-12  2014-12   2015-12  2016-12  2017-12      Forecast\n",
      "6  Receivables  87309.0  92819.0  101975.0  57368.0  62809.0  46775.086027\n"
     ]
    }
   ],
   "source": [
    "# From previous step\n",
    "f_sales = sales * 1.10\n",
    "f_debtors_end = ddays * f_sales / 365\n",
    "\n",
    "# Get the number of columns in the filtered balance sheet\n",
    "n_cols = len(filtered_balance_sheet.columns)\n",
    "\n",
    "# Append a Forecast column of the forecasted debtors' end balance\n",
    "filtered_balance_sheet.insert(n_cols,'Forecast', f_debtors_end)\n",
    "\n",
    "# See the result\n",
    "print(filtered_balance_sheet)"
   ]
  },
  {
   "cell_type": "markdown",
   "metadata": {},
   "source": [
    "## Formatting raw data, managing dates and financial periods"
   ]
  },
  {
   "cell_type": "markdown",
   "metadata": {},
   "source": [
    "### Financial periods and how to work with them"
   ]
  },
  {
   "cell_type": "markdown",
   "metadata": {},
   "source": [
    "Converting quarters into months\n",
    "\n",
    "A company has a challenge in separating data into months. It has received the following data:\n",
    "Quarter \tAmount\n",
    "Quarter 1 \t700\n",
    "Quarter 2 \t650\n",
    "\n",
    "The split across the months within each quarter is equal. Your goal is to separate this data into a list format containing the amounts per month for the first two quarters."
   ]
  },
  {
   "cell_type": "code",
   "execution_count": 266,
   "metadata": {},
   "outputs": [
    {
     "name": "stdout",
     "output_type": "stream",
     "text": [
      "The values per month for the first two quarters are [233.33, 233.33, 233.33, 216.67, 216.67, 216.67].\n"
     ]
    }
   ],
   "source": [
    "# Create a list for quarters and initialize an empty list qrtlist\n",
    "quarters = [700, 650]\n",
    "qrtlist = []\n",
    "\n",
    "# Create a for loop to split the quarters into months and add to qrtlist\n",
    "for qrt in quarters:\n",
    " month = round(qrt / 3, 2)\n",
    " qrtlist = qrtlist + [month,month,month]\n",
    " \n",
    "# Print the result\n",
    "print(\"The values per month for the first two quarters are {}.\".format(qrtlist))"
   ]
  },
  {
   "cell_type": "markdown",
   "metadata": {},
   "source": [
    "### Merging months into quarters"
   ]
  },
  {
   "cell_type": "markdown",
   "metadata": {},
   "source": [
    "Now we saw what to do when we wanted to split quarters into months for more detailed monthly information. But what happens when the opposite is true and we wish to combine data into fewer columns? This is typical when dealing with historical data, when monthly details may not be necessary, or when we need a highly consolidated version of the data for a report.\n",
    "\n",
    "The key here is to create an index, and then only add to the quarter total quarter in cycles of 3, or until the length of the list. We can do this with the following code:\n",
    "\n",
    "if index % 3 == 0 or index == len(months):\n",
    "\n",
    "This code checks whether the index divided by three yields a remainder of 0, or if the index is at the end of the list months. Thus, in a loop it will execute the specified code every three months or when it reaches the end of the list.\n",
    "\n",
    "The monthly sales are already provided in the code as months, containing the sales from the first two quarters, as well as the first month of Q3. Your task is to generate a new list called quarters that contains the quarterly totals from the first three months (which includes the partial total of Q3)."
   ]
  },
  {
   "cell_type": "code",
   "execution_count": 267,
   "metadata": {},
   "outputs": [
    {
     "name": "stdout",
     "output_type": "stream",
     "text": [
      "The quarter totals are Q1: 350, Q2: 560, Q3: 20\n"
     ]
    }
   ],
   "source": [
    "# Create a months list, as well as an index, and set the quarter to 0\n",
    "months = [100, 100, 150, 250, 300, 10, 20]\n",
    "quarter = 0\n",
    "index = 1\n",
    "quarters = []\n",
    "\n",
    "# Create for loop for quarter, print result, and increment the index\n",
    "for sales in months:\n",
    "    quarter += sales\n",
    "    if index % 3 == 0 or index == len(months):\n",
    "        quarters.append(quarter)\n",
    "        quarter = 0\n",
    "    index = index + 1\n",
    "    \n",
    "print(\"The quarter totals are Q1: {}, Q2: {}, Q3: {}\".format(quarters[0], quarters[1], quarters[2]))"
   ]
  },
  {
   "cell_type": "markdown",
   "metadata": {},
   "source": [
    "## The datetime library"
   ]
  },
  {
   "cell_type": "markdown",
   "metadata": {},
   "source": [
    "### Converting date formats - simple"
   ]
  },
  {
   "cell_type": "markdown",
   "metadata": {},
   "source": [
    "Sales area A in Europe and Sales area B in Australia have different date formats.\n",
    "\n",
    "    Sale A: 4000 on 14/02/2018\n",
    "    Sale B: 3000 on 2 March 2018\n",
    "\n",
    "If we want to consolidate or compare sales periods, we need to convert to the same date format. We can easily do this by using the datetime library and the datetime.strptime(date_string, format) method, using the following directives:"
   ]
  },
  {
   "cell_type": "raw",
   "metadata": {},
   "source": [
    "Directive \tMeaning \tExample\n",
    "%d \tDay of the month as a zero-padded decimal number \t01, 02, …, 31\n",
    "%b \tMonth as locale’s abbreviated name \tJan, Feb, …, Dec\n",
    "%B \tMonth as locale’s full name \tJanuary, …, December\n",
    "%m \tMonth as a zero-padded decimal number \t01, 02, …, 12\n",
    "%y \tYear without century as a zero-padded decimal number \t00, 01, …, 99\n",
    "%Y \tYear with century as a decimal number \t1970, 1988, 2001, 2013"
   ]
  },
  {
   "cell_type": "code",
   "execution_count": 268,
   "metadata": {},
   "outputs": [
    {
     "name": "stdout",
     "output_type": "stream",
     "text": [
      "2018-02-14 00:00:00\n",
      "2018-03-02 00:00:00\n"
     ]
    }
   ],
   "source": [
    "# Import the datetime python library\n",
    "from datetime import datetime\n",
    "\n",
    "# Create a dt_object to convert the first date and print the month result\n",
    "dt_object1 = datetime.strptime('14/02/2018', '%d/%m/%Y')\n",
    "print(dt_object1)\n",
    "\n",
    "# Create a dt_object to convert the second date and print the month result\n",
    "dt_object2 = datetime.strptime('2 March 2018', '%d %B %Y')\n",
    "print(dt_object2)"
   ]
  },
  {
   "cell_type": "markdown",
   "metadata": {},
   "source": [
    "### Converting date formats - explicit"
   ]
  },
  {
   "cell_type": "markdown",
   "metadata": {},
   "source": [
    "Let's have a look at one of the dates from the previous exercise.\n",
    "\n",
    "    Sale A: 4000 on 14/02/2018\n",
    "\n",
    "We used the datetime library to identify the day d, month m, and year y which could help us to identify data from datasets with different date formats. However, what about a scenario where we want to convert date formats into a specific format?\n",
    "\n",
    "In this exercise you will convert Sale A from the format 14/02/2018 to the same date format as Sale B (i.e. 14 February 2018).\n",
    "\n",
    "We can do this easily with built-in Python functions. Remember, to split a string we can use the .split()method.\n",
    "\n",
    "The input for this exercise will be the datetime of Sale A."
   ]
  },
  {
   "cell_type": "code",
   "execution_count": 269,
   "metadata": {},
   "outputs": [
    {
     "name": "stdout",
     "output_type": "stream",
     "text": [
      "14 February 2018\n"
     ]
    }
   ],
   "source": [
    "# Set the variable for the datetime to convert\n",
    "dt = '14/02/2018'\n",
    "\n",
    "# Create the dictionary for the month values\n",
    "mm = {'01': 'January', '02': 'February', '03': 'March'}\n",
    "\n",
    "# Split the dt string into the different parts\n",
    "day, month, year = dt.split('/')\n",
    "\n",
    "# Print the concatenated date string\n",
    "print(day + ' ' + mm[month] + ' ' + year)"
   ]
  },
  {
   "cell_type": "markdown",
   "metadata": {},
   "source": [
    "### Working with datasets - month totals"
   ]
  },
  {
   "cell_type": "markdown",
   "metadata": {},
   "source": [
    "In this exercise, we will be exploring a dataset that has multiple sales in one month. We will create a script that will enable us to identify dates within the same month, and combine them into a new month total, and append this to the table.\n",
    "\n",
    "We will be using the dataset df, which represents data from one of our sales areas. Print it out in the console to have a look at the data. As you can see, there were two sales in March. We will combine these sales into a single month total. We can iterate over the dataset using the .iteritems() method.\n",
    "\n",
    "We will also be using the .split() method."
   ]
  },
  {
   "cell_type": "code",
   "execution_count": 270,
   "metadata": {},
   "outputs": [],
   "source": [
    "# Set the index to start at 0\n",
    "index = 0\n",
    "\n",
    "# Create the dictionary for the months\n",
    "tt = {'Jan': 0, 'Feb': 0, 'Mar': 0 }"
   ]
  },
  {
   "cell_type": "code",
   "execution_count": 271,
   "metadata": {},
   "outputs": [
    {
     "data": {
      "text/plain": [
       "{'Jan': 0, 'Feb': 0, 'Mar': 0}"
      ]
     },
     "execution_count": 271,
     "metadata": {},
     "output_type": "execute_result"
    }
   ],
   "source": [
    "tt"
   ]
  },
  {
   "cell_type": "code",
   "execution_count": 272,
   "metadata": {},
   "outputs": [
    {
     "name": "stdout",
     "output_type": "stream",
     "text": [
      "  Description 14-Feb 19-Mar 22-Mar\n",
      "0       Sales   3000   1200   1500\n"
     ]
    }
   ],
   "source": [
    "data = {'Description':  ['Sales'],\n",
    "        '14-Feb': ['3000'],\n",
    "        '19-Mar': ['1200'],\n",
    "        '22-Mar': ['1500']}\n",
    "\n",
    "df = pd.DataFrame (data, columns = ['Description', '14-Feb', '19-Mar', '22-Mar'])\n",
    "\n",
    "print (df)"
   ]
  },
  {
   "cell_type": "code",
   "execution_count": 273,
   "metadata": {},
   "outputs": [
    {
     "name": "stdout",
     "output_type": "stream",
     "text": [
      "{'Jan': 0, 'Feb': 3000.0, 'Mar': 2700.0}\n"
     ]
    }
   ],
   "source": [
    "# Create a for loop that will iterate the date and amount values in the dataset\n",
    "for date, amount in df.iteritems():\n",
    "    # Create the if statement to split the day and month, then add it to the new tt variable\n",
    "    if index > 0: \n",
    "        day, month = date.split('-')\n",
    "        tt[month] +=float(amount[0])\n",
    "    index += 1\n",
    "\n",
    "print(tt)"
   ]
  },
  {
   "cell_type": "markdown",
   "metadata": {},
   "source": [
    "### Working with datasets - combining datasets"
   ]
  },
  {
   "cell_type": "markdown",
   "metadata": {},
   "source": [
    "In this example, we will be working with two datasets, df1 and df2. You can print these both out in the console to see what they contain. You will notice that they contain different date formatting.\n",
    "\n",
    "More specifically, df1 specifies the month by the name (e.g. 02-Feb-18), whereas df2 specifies the month numerically (e.g. 06/01/2018). Additionally, df1 uses a hyphen (-) as a separator, whereas df2 uses a forward slash (/) as a separator.\n",
    "\n",
    "We will be combining these two datasets to form a consolidated forecast for the quarter. To do this, we will need to parse the different date formats of df1 and df2."
   ]
  },
  {
   "cell_type": "code",
   "execution_count": 274,
   "metadata": {},
   "outputs": [],
   "source": [
    "df1 = pd.DataFrame()"
   ]
  },
  {
   "cell_type": "code",
   "execution_count": 275,
   "metadata": {},
   "outputs": [],
   "source": [
    "totals = {'Jan': 0, 'Feb': 0, 'Mar': 0}\n",
    "calendar = {'01': 'Jan', '02': 'Feb', '03': 'Mar'}"
   ]
  },
  {
   "cell_type": "code",
   "execution_count": 276,
   "metadata": {},
   "outputs": [],
   "source": [
    "totals = {'Jan': 0, 'Feb': 0, 'Mar': 0}\n",
    "calendar = {'01': 'Jan', '02': 'Feb', '03': 'Mar'}\n",
    "\n",
    "for date, amount in df1.iteritems():\n",
    "        day, month, year = date.split('-')\n",
    "        totals[month] +=float(amount[0]) "
   ]
  },
  {
   "cell_type": "code",
   "execution_count": 277,
   "metadata": {},
   "outputs": [
    {
     "data": {
      "text/html": [
       "<div>\n",
       "<style scoped>\n",
       "    .dataframe tbody tr th:only-of-type {\n",
       "        vertical-align: middle;\n",
       "    }\n",
       "\n",
       "    .dataframe tbody tr th {\n",
       "        vertical-align: top;\n",
       "    }\n",
       "\n",
       "    .dataframe thead th {\n",
       "        text-align: right;\n",
       "    }\n",
       "</style>\n",
       "<table border=\"1\" class=\"dataframe\">\n",
       "  <thead>\n",
       "    <tr style=\"text-align: right;\">\n",
       "      <th></th>\n",
       "    </tr>\n",
       "  </thead>\n",
       "  <tbody>\n",
       "  </tbody>\n",
       "</table>\n",
       "</div>"
      ],
      "text/plain": [
       "Empty DataFrame\n",
       "Columns: []\n",
       "Index: []"
      ]
     },
     "execution_count": 277,
     "metadata": {},
     "output_type": "execute_result"
    }
   ],
   "source": [
    "df1"
   ]
  },
  {
   "cell_type": "code",
   "execution_count": 278,
   "metadata": {},
   "outputs": [],
   "source": [
    "df2 = pd.DataFrame()"
   ]
  },
  {
   "cell_type": "code",
   "execution_count": 279,
   "metadata": {},
   "outputs": [
    {
     "name": "stdout",
     "output_type": "stream",
     "text": [
      "{'Jan': 0, 'Feb': 0, 'Mar': 0}\n"
     ]
    }
   ],
   "source": [
    "for date, amount in df2.iteritems():\n",
    "        day, month, year = date.split('/')\n",
    "        totals[calendar[month]] += float(amount[0])\n",
    "\n",
    "print(totals)"
   ]
  },
  {
   "cell_type": "code",
   "execution_count": 280,
   "metadata": {},
   "outputs": [
    {
     "data": {
      "text/html": [
       "<div>\n",
       "<style scoped>\n",
       "    .dataframe tbody tr th:only-of-type {\n",
       "        vertical-align: middle;\n",
       "    }\n",
       "\n",
       "    .dataframe tbody tr th {\n",
       "        vertical-align: top;\n",
       "    }\n",
       "\n",
       "    .dataframe thead th {\n",
       "        text-align: right;\n",
       "    }\n",
       "</style>\n",
       "<table border=\"1\" class=\"dataframe\">\n",
       "  <thead>\n",
       "    <tr style=\"text-align: right;\">\n",
       "      <th></th>\n",
       "    </tr>\n",
       "  </thead>\n",
       "  <tbody>\n",
       "  </tbody>\n",
       "</table>\n",
       "</div>"
      ],
      "text/plain": [
       "Empty DataFrame\n",
       "Columns: []\n",
       "Index: []"
      ]
     },
     "execution_count": 280,
     "metadata": {},
     "output_type": "execute_result"
    }
   ],
   "source": [
    "df2"
   ]
  },
  {
   "cell_type": "markdown",
   "metadata": {},
   "source": [
    "## Assumptions and variances in forecasts"
   ]
  },
  {
   "cell_type": "markdown",
   "metadata": {},
   "source": [
    "In this chapter, we will be exploring two more aspects to creating a good forecast. First, we will look at assumptions, what drives them and what happens when an assumption changes? Next, we will look at variances, as a forecast is built at one point in time, but what happens when the actual results do not correspond to our forecast? We need to build a sensitive forecast that can be sensitive to changes in both assumptions and take into account variances, and this is what we will explore in this chapter."
   ]
  },
  {
   "cell_type": "markdown",
   "metadata": {},
   "source": [
    "### Building sensitive forecast models"
   ]
  },
  {
   "cell_type": "markdown",
   "metadata": {},
   "source": [
    "### Weighted probability"
   ]
  },
  {
   "cell_type": "markdown",
   "metadata": {},
   "source": [
    "Txs Tools, a company selling hardware tools, is looking to expand out of their home market A into Market B. They have done some market research, and have received the following numeric probabilities:\n",
    "Sales Level (USD) \tProbability (%)\n",
    "\n"
   ]
  },
  {
   "cell_type": "markdown",
   "metadata": {},
   "source": [
    "\n",
    "200 \t10\n",
    "300 \t40\n",
    "500 \t20\n",
    "800 \t25"
   ]
  },
  {
   "cell_type": "markdown",
   "metadata": {},
   "source": [
    "Txs Tools will only be motivated to expand if they can have reasonable assurance that they will achieve sales of 400 or more. To manage the different forecast sales probabilities, Txs Tools have asked you to calculate the weighted probability."
   ]
  },
  {
   "cell_type": "code",
   "execution_count": 281,
   "metadata": {},
   "outputs": [
    {
     "name": "stdout",
     "output_type": "stream",
     "text": [
      "The weighted probability is 440.0.\n"
     ]
    }
   ],
   "source": [
    "# Create the combined list for sales and probability\n",
    "sales_probability = ['0|0.05', '200|0.10', '300|0.40', '500|0.20', '800|0.25'] \n",
    "weighted_probability = 0\n",
    "\n",
    "# Create a for loop to calculate the weighted probability\n",
    "for pair in sales_probability:\n",
    "    parts = pair.split('|')\n",
    "    weighted_probability += float(parts[0]) * float(parts[1])\n",
    "\n",
    "# Print the weighted probability result\n",
    "print(\"The weighted probability is {}.\".format(weighted_probability))"
   ]
  },
  {
   "cell_type": "markdown",
   "metadata": {},
   "source": [
    "###  Market sentiment"
   ]
  },
  {
   "cell_type": "markdown",
   "metadata": {},
   "source": [
    "Txs Tools has forecast sales of 500 in January, with an expected increase of 5% per month for the rest of the quarter.\n",
    "\n",
    "However, this is dependent on the market sentiment. Based on historical trends, the following information has been provided:\n",
    "\n",
    "    If the market sentiment drops below 0.6 then the sales will only be realized at an increase of 2% per month.\n",
    "    If market sentiment increases above 0.8. then sales are expected to increase by 7%.\n"
   ]
  },
  {
   "cell_type": "code",
   "execution_count": 282,
   "metadata": {},
   "outputs": [],
   "source": [
    "# Create the computevariance function\n",
    "def computevariance(amount, sentiment):\n",
    " if (sentiment < 0.6):\n",
    "  res = amount + (amount * 0.02)\n",
    " elif (sentiment > 0.8):\n",
    "  res = amount + (amount * 0.07)\n",
    " else:\n",
    "  res = amount + (amount * 0.05)\n",
    " return res"
   ]
  },
  {
   "cell_type": "code",
   "execution_count": 283,
   "metadata": {},
   "outputs": [],
   "source": [
    "amount=500"
   ]
  },
  {
   "cell_type": "code",
   "execution_count": 284,
   "metadata": {},
   "outputs": [
    {
     "data": {
      "text/plain": [
       "500"
      ]
     },
     "execution_count": 284,
     "metadata": {},
     "output_type": "execute_result"
    }
   ],
   "source": [
    "amount"
   ]
  },
  {
   "cell_type": "code",
   "execution_count": 285,
   "metadata": {},
   "outputs": [
    {
     "name": "stdout",
     "output_type": "stream",
     "text": [
      "The forecast sales considering variance due to market sentiment is 510.0 for Jan, 525.0 for Feb, and 535.0 for Mar.\n"
     ]
    }
   ],
   "source": [
    "# Compute the variance for jan, feb and mar\n",
    "jan = computevariance(500, 0.5)\n",
    "feb = computevariance(500, 0.65)\n",
    "mar = computevariance(500, 0.85)\n",
    "\n",
    "print(\"The forecast sales considering variance due to market sentiment is {} for Jan, {} for Feb, and {} for Mar.\".format(jan, feb, mar))"
   ]
  },
  {
   "cell_type": "markdown",
   "metadata": {},
   "source": [
    "### Assigning dependencies for sales and COGS"
   ]
  },
  {
   "cell_type": "markdown",
   "metadata": {},
   "source": [
    "xs Tools have built a monthly forecast for their gross profit. This will rely on dependencies for Sales and COGS.\n",
    "\n",
    "Set the dependencies for sales and cogs based on the information below:\n",
    "\n",
    "    Sales dependency sales_dep: The sale price is the net price after 1 USD commission. Commissions paid increase from 1 USD per unit to 2 USD per unit for every unit above 350 units sold.\n",
    "    Cost dependency cost_dep: When sales per unit increase above 500 units, an additional production line needs to be used, causing an increase in the cost per unit above 500 of 2 USD per unit.\n",
    "\n",
    "The baseline sale price per unit (base_sales_price) is 15 USD and the baseline cost per unit (base_cost_price) is 7 USD."
   ]
  },
  {
   "cell_type": "code",
   "execution_count": 286,
   "metadata": {},
   "outputs": [],
   "source": [
    "base_sales_price=15"
   ]
  },
  {
   "cell_type": "code",
   "execution_count": 287,
   "metadata": {},
   "outputs": [],
   "source": [
    "sales=750"
   ]
  },
  {
   "cell_type": "code",
   "execution_count": 288,
   "metadata": {},
   "outputs": [
    {
     "name": "stdout",
     "output_type": "stream",
     "text": [
      "The sales dependency is 10850 USD.\n"
     ]
    }
   ],
   "source": [
    "# Set the Sales Dependency\n",
    "if sales >= 350:\n",
    "    sales_dep = (350 * base_sales_price) + ((sales - 350) * (base_sales_price - 1))\n",
    "else:\n",
    "    sales_dep = sales * base_sales_price\n",
    "\n",
    "# Print the results\n",
    "print(\"The sales dependency is {} USD.\".format(sales_dep))"
   ]
  },
  {
   "cell_type": "code",
   "execution_count": 289,
   "metadata": {},
   "outputs": [],
   "source": [
    "base_cost_price=7"
   ]
  },
  {
   "cell_type": "code",
   "execution_count": 290,
   "metadata": {},
   "outputs": [
    {
     "name": "stdout",
     "output_type": "stream",
     "text": [
      "The cost dependency is 5750 USD.\n"
     ]
    }
   ],
   "source": [
    "# Set the Cost Dependency\n",
    "if sales >= 500:\n",
    "    cost_dep = (500 * base_cost_price) + ((sales - 500) * (base_cost_price + 2))\n",
    "else:\n",
    "    cost_dep = sales * base_cost_price\n",
    "    \n",
    "# Print the results\n",
    "print(\"The cost dependency is {} USD.\".format(cost_dep))"
   ]
  },
  {
   "cell_type": "markdown",
   "metadata": {},
   "source": [
    "### Building a sensitivity analysis for gross profit"
   ]
  },
  {
   "cell_type": "markdown",
   "metadata": {},
   "source": [
    "Txs Tools is now ready to use these dependencies in the gross profit forecast.\n",
    "\n",
    "The following forecast unit sales have been provided:\n",
    "\n",
    "Jul = 700 Aug = 350 Sep = 650\n",
    "\n",
    "The dependencies for sales and cogs are based on the following:\n",
    "\n",
    "    Sales dependency sales_dep: The sale price is the net price after 1 USD commission. Commissions paid increase from 1 USD per unit to 2 USD per unit for every unit above 350 units sold.\n",
    "    Cost dependency cost_dep: When sales per unit increase above 500 units, an additional production line needs to be used, causing an increase in the cost per unit above 500 of 2 USD per unit.\n",
    "\n",
    "The basic cost price base_cost_price = 7 and basic sales price base_sales_price = 15 has already been set."
   ]
  },
  {
   "cell_type": "code",
   "execution_count": 291,
   "metadata": {},
   "outputs": [],
   "source": [
    "# Create the sales_usd list\n",
    "sales_usd = [700, 350, 650]"
   ]
  },
  {
   "cell_type": "code",
   "execution_count": 292,
   "metadata": {},
   "outputs": [
    {
     "name": "stdout",
     "output_type": "stream",
     "text": [
      "The gross profit forecast for a sale unit value of 700 is 4850 USD.\n",
      "The gross profit forecast for a sale unit value of 350 is 2800 USD.\n",
      "The gross profit forecast for a sale unit value of 650 is 4600 USD.\n"
     ]
    }
   ],
   "source": [
    "# Create the sales_usd list\n",
    "sales_usd = [700, 350, 650]\n",
    "\n",
    "# Create the if statement to calculate the forecast_gross_profit\n",
    "for sales in sales_usd:\n",
    "    if sales > 350:\n",
    "        sales_dep = (350 * base_sales_price) + ((sales - 350) * (base_sales_price - 1))\n",
    "    else:\n",
    "        sales_dep = sales * base_sales_price\n",
    "    if sales > 500:\n",
    "        cost_dep = (500 * base_cost_price) + ((sales - 500) * (base_cost_price + 2))\n",
    "    else:\n",
    "        cost_dep = sales * base_cost_price\n",
    "    forecast_gross_profit = sales_dep - cost_dep\n",
    "    # Print the result\n",
    "    print(\"The gross profit forecast for a sale unit value of {} is {} USD.\".format(sales, forecast_gross_profit))\n",
    "    "
   ]
  },
  {
   "cell_type": "markdown",
   "metadata": {},
   "source": [
    "### Assigning dependencies for expenses"
   ]
  },
  {
   "cell_type": "markdown",
   "metadata": {},
   "source": [
    "Txs Tools wants to assign a dependency for its operating expenses, particularly admin salaries.\n",
    "\n",
    "The conditions are as follows:\n",
    "\n",
    "    Admin expenses increase in July and August (Jul and Aug) as temporary workers need to be hired to cover the summer holiday.\n",
    "    The increase is based on the number of employees taking holidays during that time. For the current year, the value for August is emp_leave = 6 (6 employees expected to take leave).\n",
    "    The cost is 80 USD per temp employee hired.\n"
   ]
  },
  {
   "cell_type": "code",
   "execution_count": 293,
   "metadata": {},
   "outputs": [],
   "source": [
    "emp_leave = 6"
   ]
  },
  {
   "cell_type": "code",
   "execution_count": 294,
   "metadata": {},
   "outputs": [
    {
     "name": "stdout",
     "output_type": "stream",
     "text": [
      "The admin dependency for August is 480 USD.\n"
     ]
    }
   ],
   "source": [
    "# Set the admin dependency\n",
    "if emp_leave > 0:\n",
    "    admin_dep = emp_leave  * 80\n",
    "\n",
    "# Print the results\n",
    "print(\"The admin dependency for August is {} USD.\".format(admin_dep))"
   ]
  },
  {
   "cell_type": "markdown",
   "metadata": {},
   "source": [
    "### Build a sensitivity analysis for the net profit"
   ]
  },
  {
   "cell_type": "markdown",
   "metadata": {},
   "source": [
    "Txs Tools has provided the following forecast admin cost in USD based on full-time employees:\n",
    "\n",
    "Jul = 1500 Aug = 1500 Sep = 1500\n",
    "\n",
    "Build the forecast net profit forecast_net_profit when emp_leave = [6, 6, 0] and the cost per temp employee is 80 USD.\n",
    "\n",
    "In addition to emp_leave and admin_usd, forecast gross profit has already been provided for you as forecast_gross_profit."
   ]
  },
  {
   "cell_type": "code",
   "execution_count": 295,
   "metadata": {},
   "outputs": [
    {
     "name": "stdout",
     "output_type": "stream",
     "text": [
      "2870\n",
      "The forecast net profit is:\n",
      "820\n",
      "The forecast net profit is:\n",
      "3100\n",
      "The forecast net profit is:\n"
     ]
    }
   ],
   "source": [
    "admin_usd = [1500, 1500, 1500]\n",
    "emp_leave = [6, 6, 0]\n",
    "forecast_gross_profit = [4850, 2800, 4600]\n",
    "index = 0\n",
    "\n",
    "for admin in admin_usd:\n",
    "    temp = emp_leave[index]\n",
    "    if temp > 0:\n",
    "        admin_dep = emp_leave[index]* 80 + admin\n",
    "    else: \n",
    "         admin_dep = admin \n",
    "    forecast_net_profit = forecast_gross_profit[index] - admin_dep\n",
    "    print(forecast_net_profit)\n",
    "    index += 1\n",
    "    print(\"The forecast net profit is:\")\n"
   ]
  },
  {
   "cell_type": "markdown",
   "metadata": {},
   "source": [
    "## Working with variances in the forecast"
   ]
  },
  {
   "cell_type": "markdown",
   "metadata": {},
   "source": [
    "### Building an alternate forecast\n",
    "\n",
    "We will now build an alternative forecast for Txs Tools. The new quarter forecast is based off actual data for Jul - Aug as well as adjusted forecast data for September. The data (units sold) is as follows:\n",
    "\n",
    "    Jul = 700\n",
    "    Aug = 220\n",
    "    Sep = 520\n",
    "\n",
    "The dependencies calculations have already been completed from the previous exercise. The following information applies:\n",
    "\n",
    "    base_cost_price = 7\n",
    "    base_sales_price = 15\n"
   ]
  },
  {
   "cell_type": "code",
   "execution_count": 296,
   "metadata": {},
   "outputs": [],
   "source": [
    "base_cost_price = 7\n",
    "base_sales_price = 15"
   ]
  },
  {
   "cell_type": "code",
   "execution_count": 297,
   "metadata": {},
   "outputs": [],
   "source": [
    "def dependencies(base_cost_price, base_sales_price, sales_usd):\n",
    "    res = []\n",
    "    for sales in sales_usd:\n",
    "        if sales >= 350:\n",
    "            sales_dep = (350 * base_sales_price) + ((sales - 350) * (base_sales_price - 1))\n",
    "        else:\n",
    "            sales_dep = sales * base_sales_price\n",
    "        if sales >= 500:\n",
    "            cost_dep = (500 * base_cost_price) + ((sales - 500) * (base_cost_price + 2))\n",
    "        else:\n",
    "            cost_dep = sales * base_cost_price\n",
    "        res.append(sales_dep - cost_dep)\n",
    "    return res"
   ]
  },
  {
   "cell_type": "code",
   "execution_count": 298,
   "metadata": {},
   "outputs": [],
   "source": [
    "forecast1 = dependencies(7, 15, [700, 350, 650])"
   ]
  },
  {
   "cell_type": "code",
   "execution_count": 299,
   "metadata": {},
   "outputs": [
    {
     "name": "stdout",
     "output_type": "stream",
     "text": [
      "The original forecast scenario is [4850, 2800, 4600]:\n",
      "The alternative forecast scenario is [4850, 1760, 3950]:\n"
     ]
    }
   ],
   "source": [
    "forecast2 = dependencies(7, 15, [700, 220, 520])\n",
    "\n",
    "print(\"The original forecast scenario is {}:\".format(forecast1))\n",
    "print(\"The alternative forecast scenario is {}:\".format(forecast2))"
   ]
  },
  {
   "cell_type": "markdown",
   "metadata": {},
   "source": [
    "### Building a gap analysis between forecasts"
   ]
  },
  {
   "cell_type": "markdown",
   "metadata": {},
   "source": [
    "Txs Tools now has two forecasts, the original forecast forecast1 and the adjusted forecast forecast2.\n",
    "\n",
    "The dependencies have already been defined as def dependencies(base_cost_price, base_sales_price, sales_usd), where base_cost_price = 7 and base_sales_price = 15, with forecast2 based off the following adjusted sales unit values:\n",
    "\n",
    "    Jul = 700\n",
    "    Aug = 220\n",
    "    Sep = 520\n",
    "\n",
    "In this exercise, we will look at how to use a for loop to cycle between two different lists, forecast1 and forecast2 and calculate the difference (\"gap\") using an incremented index. It is possible to do this simultaneously as both lists have the same length."
   ]
  },
  {
   "cell_type": "code",
   "execution_count": 300,
   "metadata": {},
   "outputs": [
    {
     "name": "stdout",
     "output_type": "stream",
     "text": [
      "The gap between forecasts is 0\n",
      "The gap between forecasts is -1040\n",
      "The gap between forecasts is -650\n"
     ]
    }
   ],
   "source": [
    "# Set the two results\n",
    "forecast1 = dependencies(7, 15, [700, 350, 650])\n",
    "forecast2 = dependencies(7, 15, [700, 220, 520])\n",
    "\n",
    "# Create an index and the gap analysis for the forecast\n",
    "index = 0\n",
    "for value in forecast2:\n",
    "    print(\"The gap between forecasts is {}\".format(value - forecast1[index]))\n",
    "    index += 1"
   ]
  },
  {
   "cell_type": "markdown",
   "metadata": {},
   "source": [
    "### Setting dependencies for Netflix"
   ]
  },
  {
   "cell_type": "markdown",
   "metadata": {},
   "source": [
    "Netflix has compiled a forecast up to the 2019 financial year netflix_f_is, and has based the sales figures in 2019 on the following dependency:\n",
    "\n",
    "    Number of active subscriptions, which are based on the success of Netflix original shows.\n",
    "\n",
    "For 2019, the success of original shows (critical and commercial acclaim) are estimated at 78%. The total amount of subscribers per percentage point is 500, and set to the variable n_subscribers_per_pp (i.e there is a calculated correlation between show success and number of subscribers).\n",
    "\n",
    "In this exercise, we will calculate how dependent sales are on the number of subscribers in the forecast, which we will use in the next exercise.\n",
    "\n",
    "The Netflix forecast, netflix_f_iscan be printed in the shell."
   ]
  },
  {
   "cell_type": "code",
   "execution_count": 301,
   "metadata": {},
   "outputs": [],
   "source": [
    "# Import the data\n",
    "netflix_f_is = pd.read_csv('Netflix.csv', )"
   ]
  },
  {
   "cell_type": "code",
   "execution_count": 302,
   "metadata": {},
   "outputs": [
    {
     "data": {
      "text/html": [
       "<div>\n",
       "<style scoped>\n",
       "    .dataframe tbody tr th:only-of-type {\n",
       "        vertical-align: middle;\n",
       "    }\n",
       "\n",
       "    .dataframe tbody tr th {\n",
       "        vertical-align: top;\n",
       "    }\n",
       "\n",
       "    .dataframe thead th {\n",
       "        text-align: right;\n",
       "    }\n",
       "</style>\n",
       "<table border=\"1\" class=\"dataframe\">\n",
       "  <thead>\n",
       "    <tr style=\"text-align: right;\">\n",
       "      <th></th>\n",
       "      <th>metric</th>\n",
       "      <th>2014 act</th>\n",
       "      <th>2015 act</th>\n",
       "      <th>2016 act</th>\n",
       "      <th>2017 fc</th>\n",
       "      <th>2018 fc</th>\n",
       "      <th>2019 fc</th>\n",
       "    </tr>\n",
       "  </thead>\n",
       "  <tbody>\n",
       "    <tr>\n",
       "      <th>0</th>\n",
       "      <td>Sales</td>\n",
       "      <td>5505.0</td>\n",
       "      <td>6780.0</td>\n",
       "      <td>8831.0</td>\n",
       "      <td>11688.0</td>\n",
       "      <td>14979.0</td>\n",
       "      <td>17994.0</td>\n",
       "    </tr>\n",
       "    <tr>\n",
       "      <th>1</th>\n",
       "      <td>EBITDA</td>\n",
       "      <td>528.0</td>\n",
       "      <td>493.0</td>\n",
       "      <td>611.0</td>\n",
       "      <td>1088.0</td>\n",
       "      <td>1899.0</td>\n",
       "      <td>2943.0</td>\n",
       "    </tr>\n",
       "    <tr>\n",
       "      <th>2</th>\n",
       "      <td>Operating profit (EBIT)</td>\n",
       "      <td>403.0</td>\n",
       "      <td>306.0</td>\n",
       "      <td>380.0</td>\n",
       "      <td>837.0</td>\n",
       "      <td>1660.0</td>\n",
       "      <td>2702.0</td>\n",
       "    </tr>\n",
       "    <tr>\n",
       "      <th>3</th>\n",
       "      <td>Net income</td>\n",
       "      <td>267.0</td>\n",
       "      <td>123.0</td>\n",
       "      <td>187.0</td>\n",
       "      <td>559.0</td>\n",
       "      <td>1024.0</td>\n",
       "      <td>1721.0</td>\n",
       "    </tr>\n",
       "  </tbody>\n",
       "</table>\n",
       "</div>"
      ],
      "text/plain": [
       "                    metric  2014 act  2015 act  2016 act  2017 fc  2018 fc  \\\n",
       "0                    Sales    5505.0    6780.0    8831.0  11688.0  14979.0   \n",
       "1                   EBITDA     528.0     493.0     611.0   1088.0   1899.0   \n",
       "2  Operating profit (EBIT)     403.0     306.0     380.0    837.0   1660.0   \n",
       "3               Net income     267.0     123.0     187.0    559.0   1024.0   \n",
       "\n",
       "   2019 fc  \n",
       "0  17994.0  \n",
       "1   2943.0  \n",
       "2   2702.0  \n",
       "3   1721.0  "
      ]
     },
     "execution_count": 302,
     "metadata": {},
     "output_type": "execute_result"
    }
   ],
   "source": [
    "netflix_f_is"
   ]
  },
  {
   "cell_type": "code",
   "execution_count": 303,
   "metadata": {},
   "outputs": [
    {
     "name": "stdout",
     "output_type": "stream",
     "text": [
      "The sales forecast is 17994.0.\n"
     ]
    }
   ],
   "source": [
    "# Create a filter to select the sales row from the netflix_f_is dataset\n",
    "sales_metric = ['Sales']\n",
    "\n",
    "# Filter for rows containing the Sales metric\n",
    "filtered_netflix_f_is = netflix_f_is[netflix_f_is.metric.isin(sales_metric)]\n",
    "\n",
    "# Extract the 2019 Sales forecast value\n",
    "forecast1 = netflix_f_is['2019 fc'].iloc[0]\n",
    "\n",
    "# Print the resulting forecast\n",
    "print(\"The sales forecast is {}.\".format(forecast1))"
   ]
  },
  {
   "cell_type": "code",
   "execution_count": 304,
   "metadata": {},
   "outputs": [],
   "source": [
    "n_subscribers_per_pp=500"
   ]
  },
  {
   "cell_type": "code",
   "execution_count": 305,
   "metadata": {},
   "outputs": [
    {
     "name": "stdout",
     "output_type": "stream",
     "text": [
      "The dependency for the subscriber base is 390.0.\n"
     ]
    }
   ],
   "source": [
    "# Set the success percentage to 78%\n",
    "pct_success = 0.78\n",
    "\n",
    "# Calculate the dependency for the subscriber base\n",
    "n_subscribers = n_subscribers_per_pp * pct_success\n",
    "\n",
    "# See the result\n",
    "print(\"The dependency for the subscriber base is {}.\".format(n_subscribers))"
   ]
  },
  {
   "cell_type": "markdown",
   "metadata": {},
   "source": [
    "Calculate the ratio between forecast 2019 sales (forecast1 and the number of subscribers n_subscribers, assigning the result to sales_subs_ratio."
   ]
  },
  {
   "cell_type": "code",
   "execution_count": 306,
   "metadata": {},
   "outputs": [
    {
     "name": "stdout",
     "output_type": "stream",
     "text": [
      "The ratio between subscribers and sales is 1 subscriber equals $46.14.\n"
     ]
    }
   ],
   "source": [
    "# From previous steps\n",
    "sales_metric = ['Sales']\n",
    "filtered_netflix_f_is = netflix_f_is[netflix_f_is.metric.isin(sales_metric)]\n",
    "forecast1 = filtered_netflix_f_is[\"2019 fc\"].iloc[0]\n",
    "pct_success = 0.78\n",
    "n_subscribers = n_subscribers_per_pp * pct_success\n",
    "\n",
    "# Calculate the ratio between forecast sales and subscribers\n",
    "sales_subs_ratio = forecast1 / n_subscribers\n",
    "\n",
    "# See the result\n",
    "print(\"The ratio between subscribers and sales is 1 subscriber equals ${:.2f}.\".format(sales_subs_ratio))"
   ]
  },
  {
   "cell_type": "markdown",
   "metadata": {},
   "source": [
    "### Calculating an alternative forecast for Netflix"
   ]
  },
  {
   "cell_type": "markdown",
   "metadata": {},
   "source": [
    "The original assumptions are as follows: the total amount of subscribers at a 78% success rate results in 39,000 subscribers. We used this to build the forecast numbers.\n",
    "\n",
    "However, the success rate for 2019 has been recalculated to have a probability of 65%, and the management has asked us to make an adjusted forecast based on this value.\n",
    "\n",
    "The ratio between the subscribers and sales is 1 subscriber to 0.46 USD sales, set to variable sales_subs_ratio. In addition, the variables for number of subscribers per percentage point (n_subscribers_per_pp) and our prior calculation of forecast1 have also been set."
   ]
  },
  {
   "cell_type": "code",
   "execution_count": 307,
   "metadata": {},
   "outputs": [],
   "source": [
    "# Set the proportion of successes to 65%\n",
    "pct_success2 = 0.65\n",
    "\n",
    "# Calculate the number of subscribers\n",
    "n_subscribers2 = n_subscribers_per_pp * pct_success2\n",
    "\n",
    "# Calculate the new forecast\n",
    "forecast2 = n_subscribers2 * sales_subs_ratio"
   ]
  },
  {
   "cell_type": "code",
   "execution_count": 308,
   "metadata": {},
   "outputs": [
    {
     "data": {
      "text/plain": [
       "14995.000000000002"
      ]
     },
     "execution_count": 308,
     "metadata": {},
     "output_type": "execute_result"
    }
   ],
   "source": [
    "forecast2"
   ]
  },
  {
   "cell_type": "code",
   "execution_count": 309,
   "metadata": {},
   "outputs": [
    {
     "name": "stdout",
     "output_type": "stream",
     "text": [
      "  metric  2014 act  2015 act  2016 act  2017 fc  2018 fc  2019 fc  \\\n",
      "0  Sales    5505.0    6780.0    8831.0  11688.0  14979.0  17994.0   \n",
      "\n",
      "   AltForecast     Gap  \n",
      "0      14995.0  2999.0  \n"
     ]
    }
   ],
   "source": [
    "# From previous step\n",
    "pct_success2 = 0.65\n",
    "n_subscribers2 = n_subscribers_per_pp * pct_success2\n",
    "forecast2 = n_subscribers2 * sales_subs_ratio\n",
    "\n",
    "# Insert a column named AltForecast, containing forecast2\n",
    "filtered_netflix_f_is.insert(len(filtered_netflix_f_is.columns), 'AltForecast', forecast2)\n",
    "\n",
    "# Insert a column named Gap, containing the difference\n",
    "filtered_netflix_f_is.insert(len(filtered_netflix_f_is.columns), 'Gap', (forecast1-forecast2))\n",
    "\n",
    "# See the result\n",
    "print(filtered_netflix_f_is)"
   ]
  }
 ],
 "metadata": {
  "kernelspec": {
   "display_name": "Python",
   "language": "python",
   "name": "conda-env-python-py"
  },
  "language_info": {
   "codemirror_mode": {
    "name": "ipython",
    "version": 3
   },
   "file_extension": ".py",
   "mimetype": "text/x-python",
   "name": "python",
   "nbconvert_exporter": "python",
   "pygments_lexer": "ipython3",
   "version": "3.6.11"
  }
 },
 "nbformat": 4,
 "nbformat_minor": 4
}
